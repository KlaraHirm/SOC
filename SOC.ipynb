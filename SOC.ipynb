{
 "cells": [
  {
   "cell_type": "code",
   "execution_count": 1,
   "metadata": {},
   "outputs": [],
   "source": [
    "import pandas as pd\n",
    "import numpy as np\n",
    "import seaborn as sns\n",
    "import matplotlib.pyplot as plt\n",
    "main = pd.read_csv('/Users/Klara/Desktop/statistika/SOC/SOCmain.csv')"
   ]
  },
  {
   "cell_type": "code",
   "execution_count": 2,
   "metadata": {},
   "outputs": [
    {
     "data": {
      "text/html": [
       "<div>\n",
       "<style scoped>\n",
       "    .dataframe tbody tr th:only-of-type {\n",
       "        vertical-align: middle;\n",
       "    }\n",
       "\n",
       "    .dataframe tbody tr th {\n",
       "        vertical-align: top;\n",
       "    }\n",
       "\n",
       "    .dataframe thead th {\n",
       "        text-align: right;\n",
       "    }\n",
       "</style>\n",
       "<table border=\"1\" class=\"dataframe\">\n",
       "  <thead>\n",
       "    <tr style=\"text-align: right;\">\n",
       "      <th></th>\n",
       "      <th>Časová pečiatka</th>\n",
       "      <th>Pohlavie:</th>\n",
       "      <th>Vek:</th>\n",
       "      <th>Mali ste počas Vášho štúdia na strednej/základnej škole priestor na hodinách (biológia) alebo vyhradenú hodinu, ktorá sa zaoberala zdravým sexuálnym životom, antikoncepciou, sexuálne prenosnými chorobami a ich prevenciou?</th>\n",
       "      <th>V akej podobe táto hodina bola?</th>\n",
       "      <th>Rozprávali ste sa otvorene na tému sexuálna výchova a zdravie doma?</th>\n",
       "      <th>Myslíte si, že tému zdravý sexuálny život ovládate natoľko, že ste schopný/á viesť zdravý, plnohodnotný sexuálny život? (správna voľba antikoncepcie, prevencia sexuálne prenosných chorôb,...)</th>\n",
       "      <th>Riadite sa zásadou: prvý pohlavný styk až po svadbe?</th>\n",
       "      <th>V akom veku ste mali prvý pohlavný styk?</th>\n",
       "      <th>Aká je Vaša preferovaná forma antikoncepcie s partnerom?</th>\n",
       "      <th>Použili ste Vy, alebo Vaša partnerka, niekedy núdzovú antikoncepciu?   (,,tabletka po\" - väčšinou využívaná v prípade nechráneného pohlavného styku alebo zlyhaní antikoncepcie do 3-5 dní)</th>\n",
       "      <th>Myslíte si, že ste dostatočne informovaný/á o téme interrupcie? (ako prebiehajú, rôzne formy, legislatíva na Slovensku,...)</th>\n",
       "      <th>V súčasnosti sa na Slovensku čoraz viac diskutuje o sprísnení interrupčných práv. Súhlasíte s týmto návrhom zákona? (predĺženie čakacej doby na interrupciu z 2 na 4 dni, povinnosť dvoch znaleckých posudkov pred interrupciou zo zdravotných dôvodov, zákaz reklamy) celý návrh zákona: https://www.nrsr.sk/web/Dynamic/DocumentPreview.aspx?DocID=479948</th>\n",
       "      <th>Myslíte si, že by mala byť interrupčná tabletka legálna na Slovensku?</th>\n",
       "      <th>Poznáte niekoho z Vášho blízkeho okolia, kto podstúpil, alebo ste sama podstúpili, interrupciu?</th>\n",
       "    </tr>\n",
       "  </thead>\n",
       "  <tbody>\n",
       "    <tr>\n",
       "      <th>0</th>\n",
       "      <td>2020/12/10 10:00:11 PM SEČ</td>\n",
       "      <td>Žena</td>\n",
       "      <td>51</td>\n",
       "      <td>Nie</td>\n",
       "      <td>Vyhradená hodina v učebnom pláne na ZŠ;Vyhrade...</td>\n",
       "      <td>Skôr nie</td>\n",
       "      <td>Skôr áno</td>\n",
       "      <td>Nie</td>\n",
       "      <td>19-20</td>\n",
       "      <td>Metódy založené na znalosti plodnosti (neplodn...</td>\n",
       "      <td>Áno</td>\n",
       "      <td>Skôr nie</td>\n",
       "      <td>Nie</td>\n",
       "      <td>Áno</td>\n",
       "      <td>Áno, poznám</td>\n",
       "    </tr>\n",
       "    <tr>\n",
       "      <th>1</th>\n",
       "      <td>2020/12/10 10:05:29 PM SEČ</td>\n",
       "      <td>Žena</td>\n",
       "      <td>18</td>\n",
       "      <td>Nie</td>\n",
       "      <td>Nemal/a som žiadnu možnosť byť informovaný/á n...</td>\n",
       "      <td>Skôr áno</td>\n",
       "      <td>Skôr áno</td>\n",
       "      <td>Nie</td>\n",
       "      <td>15-16</td>\n",
       "      <td>Antikoncepčné tabletky (s alebo bez obsahu est...</td>\n",
       "      <td>Áno</td>\n",
       "      <td>Skôr áno</td>\n",
       "      <td>Nie</td>\n",
       "      <td>Áno</td>\n",
       "      <td>Nie</td>\n",
       "    </tr>\n",
       "    <tr>\n",
       "      <th>2</th>\n",
       "      <td>2020/12/10 10:06:02 PM SEČ</td>\n",
       "      <td>Žena</td>\n",
       "      <td>19</td>\n",
       "      <td>Nie</td>\n",
       "      <td>Výklad na hodine biológie SŠ</td>\n",
       "      <td>Nie</td>\n",
       "      <td>Skôr áno</td>\n",
       "      <td>Nie</td>\n",
       "      <td>ešte som nemal/a pohlavný styk</td>\n",
       "      <td>Nie som sexuálne aktívny/a</td>\n",
       "      <td>Nie</td>\n",
       "      <td>Skôr nie</td>\n",
       "      <td>Neviem</td>\n",
       "      <td>Áno</td>\n",
       "      <td>Nie</td>\n",
       "    </tr>\n",
       "    <tr>\n",
       "      <th>3</th>\n",
       "      <td>2020/12/10 10:13:00 PM SEČ</td>\n",
       "      <td>Žena</td>\n",
       "      <td>18</td>\n",
       "      <td>Áno, jednorázovo</td>\n",
       "      <td>Výklad na hodine biológie ZŠ</td>\n",
       "      <td>Áno</td>\n",
       "      <td>Skôr áno</td>\n",
       "      <td>Nie</td>\n",
       "      <td>17-18</td>\n",
       "      <td>Prerušovaná súlož</td>\n",
       "      <td>Áno</td>\n",
       "      <td>Skôr áno</td>\n",
       "      <td>Nie</td>\n",
       "      <td>Áno</td>\n",
       "      <td>Áno, poznám</td>\n",
       "    </tr>\n",
       "    <tr>\n",
       "      <th>4</th>\n",
       "      <td>2020/12/10 10:16:03 PM SEČ</td>\n",
       "      <td>Žena</td>\n",
       "      <td>17</td>\n",
       "      <td>Nie</td>\n",
       "      <td>Nemal/a som žiadnu možnosť byť informovaný/á n...</td>\n",
       "      <td>Skôr nie</td>\n",
       "      <td>Skôr áno</td>\n",
       "      <td>Nie</td>\n",
       "      <td>ešte som nemal/a pohlavný styk</td>\n",
       "      <td>Nie som sexuálne aktívny/a</td>\n",
       "      <td>Nie</td>\n",
       "      <td>Skôr áno</td>\n",
       "      <td>Nie</td>\n",
       "      <td>Áno</td>\n",
       "      <td>Nie</td>\n",
       "    </tr>\n",
       "  </tbody>\n",
       "</table>\n",
       "</div>"
      ],
      "text/plain": [
       "              Časová pečiatka Pohlavie: Vek:  \\\n",
       "0  2020/12/10 10:00:11 PM SEČ      Žena   51   \n",
       "1  2020/12/10 10:05:29 PM SEČ      Žena   18   \n",
       "2  2020/12/10 10:06:02 PM SEČ      Žena   19   \n",
       "3  2020/12/10 10:13:00 PM SEČ      Žena   18   \n",
       "4  2020/12/10 10:16:03 PM SEČ      Žena   17   \n",
       "\n",
       "  Mali ste počas Vášho štúdia na strednej/základnej škole priestor na hodinách (biológia) alebo vyhradenú hodinu, ktorá sa zaoberala zdravým sexuálnym životom, antikoncepciou, sexuálne prenosnými chorobami a ich prevenciou?  \\\n",
       "0                                                Nie                                                                                                                                                                              \n",
       "1                                                Nie                                                                                                                                                                              \n",
       "2                                                Nie                                                                                                                                                                              \n",
       "3                                   Áno, jednorázovo                                                                                                                                                                              \n",
       "4                                                Nie                                                                                                                                                                              \n",
       "\n",
       "                     V akej podobe táto hodina bola?  \\\n",
       "0  Vyhradená hodina v učebnom pláne na ZŠ;Vyhrade...   \n",
       "1  Nemal/a som žiadnu možnosť byť informovaný/á n...   \n",
       "2                       Výklad na hodine biológie SŠ   \n",
       "3                       Výklad na hodine biológie ZŠ   \n",
       "4  Nemal/a som žiadnu možnosť byť informovaný/á n...   \n",
       "\n",
       "  Rozprávali ste sa otvorene na tému sexuálna výchova a zdravie doma?  \\\n",
       "0                                           Skôr nie                    \n",
       "1                                           Skôr áno                    \n",
       "2                                                Nie                    \n",
       "3                                                Áno                    \n",
       "4                                           Skôr nie                    \n",
       "\n",
       "  Myslíte si, že tému zdravý sexuálny život ovládate natoľko, že ste schopný/á viesť zdravý, plnohodnotný sexuálny život? (správna voľba antikoncepcie, prevencia sexuálne prenosných chorôb,...)  \\\n",
       "0                                           Skôr áno                                                                                                                                                \n",
       "1                                           Skôr áno                                                                                                                                                \n",
       "2                                           Skôr áno                                                                                                                                                \n",
       "3                                           Skôr áno                                                                                                                                                \n",
       "4                                           Skôr áno                                                                                                                                                \n",
       "\n",
       "  Riadite sa zásadou: prvý pohlavný styk až po svadbe?  \\\n",
       "0                                                Nie     \n",
       "1                                                Nie     \n",
       "2                                                Nie     \n",
       "3                                                Nie     \n",
       "4                                                Nie     \n",
       "\n",
       "  V akom veku ste mali prvý pohlavný styk?  \\\n",
       "0                                    19-20   \n",
       "1                                    15-16   \n",
       "2           ešte som nemal/a pohlavný styk   \n",
       "3                                    17-18   \n",
       "4           ešte som nemal/a pohlavný styk   \n",
       "\n",
       "  Aká je Vaša preferovaná forma antikoncepcie s partnerom?  \\\n",
       "0  Metódy založené na znalosti plodnosti (neplodn...         \n",
       "1  Antikoncepčné tabletky (s alebo bez obsahu est...         \n",
       "2                         Nie som sexuálne aktívny/a         \n",
       "3                                  Prerušovaná súlož         \n",
       "4                         Nie som sexuálne aktívny/a         \n",
       "\n",
       "  Použili ste Vy, alebo Vaša partnerka, niekedy núdzovú antikoncepciu?   (,,tabletka po\" - väčšinou využívaná v prípade nechráneného pohlavného styku alebo zlyhaní antikoncepcie do 3-5 dní)  \\\n",
       "0                                                Áno                                                                                                                                            \n",
       "1                                                Áno                                                                                                                                            \n",
       "2                                                Nie                                                                                                                                            \n",
       "3                                                Áno                                                                                                                                            \n",
       "4                                                Nie                                                                                                                                            \n",
       "\n",
       "  Myslíte si, že ste dostatočne informovaný/á o téme interrupcie? (ako prebiehajú, rôzne formy, legislatíva na Slovensku,...)  \\\n",
       "0                                           Skôr nie                                                                            \n",
       "1                                           Skôr áno                                                                            \n",
       "2                                           Skôr nie                                                                            \n",
       "3                                           Skôr áno                                                                            \n",
       "4                                           Skôr áno                                                                            \n",
       "\n",
       "  V súčasnosti sa na Slovensku čoraz viac diskutuje o sprísnení interrupčných práv. Súhlasíte s týmto návrhom zákona? (predĺženie čakacej doby na interrupciu z 2 na 4 dni, povinnosť dvoch znaleckých posudkov pred interrupciou zo zdravotných dôvodov, zákaz reklamy) celý návrh zákona: https://www.nrsr.sk/web/Dynamic/DocumentPreview.aspx?DocID=479948  \\\n",
       "0                                                Nie                                                                                                                                                                                                                                                                                                            \n",
       "1                                                Nie                                                                                                                                                                                                                                                                                                            \n",
       "2                                             Neviem                                                                                                                                                                                                                                                                                                            \n",
       "3                                                Nie                                                                                                                                                                                                                                                                                                            \n",
       "4                                                Nie                                                                                                                                                                                                                                                                                                            \n",
       "\n",
       "  Myslíte si, že by mala byť interrupčná tabletka legálna na Slovensku?  \\\n",
       "0                                                Áno                      \n",
       "1                                                Áno                      \n",
       "2                                                Áno                      \n",
       "3                                                Áno                      \n",
       "4                                                Áno                      \n",
       "\n",
       "  Poznáte niekoho z Vášho blízkeho okolia, kto podstúpil, alebo ste sama podstúpili, interrupciu?   \n",
       "0                                        Áno, poznám                                                \n",
       "1                                                Nie                                                \n",
       "2                                                Nie                                                \n",
       "3                                        Áno, poznám                                                \n",
       "4                                                Nie                                                "
      ]
     },
     "execution_count": 2,
     "metadata": {},
     "output_type": "execute_result"
    }
   ],
   "source": [
    "main.head()"
   ]
  },
  {
   "cell_type": "code",
   "execution_count": 3,
   "metadata": {},
   "outputs": [
    {
     "data": {
      "text/html": [
       "<div>\n",
       "<style scoped>\n",
       "    .dataframe tbody tr th:only-of-type {\n",
       "        vertical-align: middle;\n",
       "    }\n",
       "\n",
       "    .dataframe tbody tr th {\n",
       "        vertical-align: top;\n",
       "    }\n",
       "\n",
       "    .dataframe thead th {\n",
       "        text-align: right;\n",
       "    }\n",
       "</style>\n",
       "<table border=\"1\" class=\"dataframe\">\n",
       "  <thead>\n",
       "    <tr style=\"text-align: right;\">\n",
       "      <th></th>\n",
       "      <th>Pohlavie:</th>\n",
       "      <th>Vek:</th>\n",
       "      <th>Mali ste počas Vášho štúdia na strednej/základnej škole priestor na hodinách (biológia) alebo vyhradenú hodinu, ktorá sa zaoberala zdravým sexuálnym životom, antikoncepciou, sexuálne prenosnými chorobami a ich prevenciou?</th>\n",
       "      <th>V akej podobe táto hodina bola?</th>\n",
       "      <th>Rozprávali ste sa otvorene na tému sexuálna výchova a zdravie doma?</th>\n",
       "      <th>Myslíte si, že tému zdravý sexuálny život ovládate natoľko, že ste schopný/á viesť zdravý, plnohodnotný sexuálny život? (správna voľba antikoncepcie, prevencia sexuálne prenosných chorôb,...)</th>\n",
       "      <th>Riadite sa zásadou: prvý pohlavný styk až po svadbe?</th>\n",
       "      <th>V akom veku ste mali prvý pohlavný styk?</th>\n",
       "      <th>Aká je Vaša preferovaná forma antikoncepcie s partnerom?</th>\n",
       "      <th>Použili ste Vy, alebo Vaša partnerka, niekedy núdzovú antikoncepciu?   (,,tabletka po\" - väčšinou využívaná v prípade nechráneného pohlavného styku alebo zlyhaní antikoncepcie do 3-5 dní)</th>\n",
       "      <th>Myslíte si, že ste dostatočne informovaný/á o téme interrupcie? (ako prebiehajú, rôzne formy, legislatíva na Slovensku,...)</th>\n",
       "      <th>V súčasnosti sa na Slovensku čoraz viac diskutuje o sprísnení interrupčných práv. Súhlasíte s týmto návrhom zákona? (predĺženie čakacej doby na interrupciu z 2 na 4 dni, povinnosť dvoch znaleckých posudkov pred interrupciou zo zdravotných dôvodov, zákaz reklamy) celý návrh zákona: https://www.nrsr.sk/web/Dynamic/DocumentPreview.aspx?DocID=479948</th>\n",
       "      <th>Myslíte si, že by mala byť interrupčná tabletka legálna na Slovensku?</th>\n",
       "      <th>Poznáte niekoho z Vášho blízkeho okolia, kto podstúpil, alebo ste sama podstúpili, interrupciu?</th>\n",
       "    </tr>\n",
       "  </thead>\n",
       "  <tbody>\n",
       "    <tr>\n",
       "      <th>0</th>\n",
       "      <td>Žena</td>\n",
       "      <td>51</td>\n",
       "      <td>Nie</td>\n",
       "      <td>Vyhradená hodina v učebnom pláne na ZŠ;Vyhrade...</td>\n",
       "      <td>Skôr nie</td>\n",
       "      <td>Skôr áno</td>\n",
       "      <td>Nie</td>\n",
       "      <td>19-20</td>\n",
       "      <td>Metódy založené na znalosti plodnosti (neplodn...</td>\n",
       "      <td>Áno</td>\n",
       "      <td>Skôr nie</td>\n",
       "      <td>Nie</td>\n",
       "      <td>Áno</td>\n",
       "      <td>Áno, poznám</td>\n",
       "    </tr>\n",
       "    <tr>\n",
       "      <th>1</th>\n",
       "      <td>Žena</td>\n",
       "      <td>18</td>\n",
       "      <td>Nie</td>\n",
       "      <td>Nemal/a som žiadnu možnosť byť informovaný/á n...</td>\n",
       "      <td>Skôr áno</td>\n",
       "      <td>Skôr áno</td>\n",
       "      <td>Nie</td>\n",
       "      <td>15-16</td>\n",
       "      <td>Antikoncepčné tabletky (s alebo bez obsahu est...</td>\n",
       "      <td>Áno</td>\n",
       "      <td>Skôr áno</td>\n",
       "      <td>Nie</td>\n",
       "      <td>Áno</td>\n",
       "      <td>Nie</td>\n",
       "    </tr>\n",
       "    <tr>\n",
       "      <th>2</th>\n",
       "      <td>Žena</td>\n",
       "      <td>19</td>\n",
       "      <td>Nie</td>\n",
       "      <td>Výklad na hodine biológie SŠ</td>\n",
       "      <td>Nie</td>\n",
       "      <td>Skôr áno</td>\n",
       "      <td>Nie</td>\n",
       "      <td>ešte som nemal/a pohlavný styk</td>\n",
       "      <td>Nie som sexuálne aktívny/a</td>\n",
       "      <td>Nie</td>\n",
       "      <td>Skôr nie</td>\n",
       "      <td>Neviem</td>\n",
       "      <td>Áno</td>\n",
       "      <td>Nie</td>\n",
       "    </tr>\n",
       "    <tr>\n",
       "      <th>3</th>\n",
       "      <td>Žena</td>\n",
       "      <td>18</td>\n",
       "      <td>Áno, jednorázovo</td>\n",
       "      <td>Výklad na hodine biológie ZŠ</td>\n",
       "      <td>Áno</td>\n",
       "      <td>Skôr áno</td>\n",
       "      <td>Nie</td>\n",
       "      <td>17-18</td>\n",
       "      <td>Prerušovaná súlož</td>\n",
       "      <td>Áno</td>\n",
       "      <td>Skôr áno</td>\n",
       "      <td>Nie</td>\n",
       "      <td>Áno</td>\n",
       "      <td>Áno, poznám</td>\n",
       "    </tr>\n",
       "    <tr>\n",
       "      <th>4</th>\n",
       "      <td>Žena</td>\n",
       "      <td>17</td>\n",
       "      <td>Nie</td>\n",
       "      <td>Nemal/a som žiadnu možnosť byť informovaný/á n...</td>\n",
       "      <td>Skôr nie</td>\n",
       "      <td>Skôr áno</td>\n",
       "      <td>Nie</td>\n",
       "      <td>ešte som nemal/a pohlavný styk</td>\n",
       "      <td>Nie som sexuálne aktívny/a</td>\n",
       "      <td>Nie</td>\n",
       "      <td>Skôr áno</td>\n",
       "      <td>Nie</td>\n",
       "      <td>Áno</td>\n",
       "      <td>Nie</td>\n",
       "    </tr>\n",
       "  </tbody>\n",
       "</table>\n",
       "</div>"
      ],
      "text/plain": [
       "  Pohlavie: Vek:  \\\n",
       "0      Žena   51   \n",
       "1      Žena   18   \n",
       "2      Žena   19   \n",
       "3      Žena   18   \n",
       "4      Žena   17   \n",
       "\n",
       "  Mali ste počas Vášho štúdia na strednej/základnej škole priestor na hodinách (biológia) alebo vyhradenú hodinu, ktorá sa zaoberala zdravým sexuálnym životom, antikoncepciou, sexuálne prenosnými chorobami a ich prevenciou?  \\\n",
       "0                                                Nie                                                                                                                                                                              \n",
       "1                                                Nie                                                                                                                                                                              \n",
       "2                                                Nie                                                                                                                                                                              \n",
       "3                                   Áno, jednorázovo                                                                                                                                                                              \n",
       "4                                                Nie                                                                                                                                                                              \n",
       "\n",
       "                     V akej podobe táto hodina bola?  \\\n",
       "0  Vyhradená hodina v učebnom pláne na ZŠ;Vyhrade...   \n",
       "1  Nemal/a som žiadnu možnosť byť informovaný/á n...   \n",
       "2                       Výklad na hodine biológie SŠ   \n",
       "3                       Výklad na hodine biológie ZŠ   \n",
       "4  Nemal/a som žiadnu možnosť byť informovaný/á n...   \n",
       "\n",
       "  Rozprávali ste sa otvorene na tému sexuálna výchova a zdravie doma?  \\\n",
       "0                                           Skôr nie                    \n",
       "1                                           Skôr áno                    \n",
       "2                                                Nie                    \n",
       "3                                                Áno                    \n",
       "4                                           Skôr nie                    \n",
       "\n",
       "  Myslíte si, že tému zdravý sexuálny život ovládate natoľko, že ste schopný/á viesť zdravý, plnohodnotný sexuálny život? (správna voľba antikoncepcie, prevencia sexuálne prenosných chorôb,...)  \\\n",
       "0                                           Skôr áno                                                                                                                                                \n",
       "1                                           Skôr áno                                                                                                                                                \n",
       "2                                           Skôr áno                                                                                                                                                \n",
       "3                                           Skôr áno                                                                                                                                                \n",
       "4                                           Skôr áno                                                                                                                                                \n",
       "\n",
       "  Riadite sa zásadou: prvý pohlavný styk až po svadbe?  \\\n",
       "0                                                Nie     \n",
       "1                                                Nie     \n",
       "2                                                Nie     \n",
       "3                                                Nie     \n",
       "4                                                Nie     \n",
       "\n",
       "  V akom veku ste mali prvý pohlavný styk?  \\\n",
       "0                                    19-20   \n",
       "1                                    15-16   \n",
       "2           ešte som nemal/a pohlavný styk   \n",
       "3                                    17-18   \n",
       "4           ešte som nemal/a pohlavný styk   \n",
       "\n",
       "  Aká je Vaša preferovaná forma antikoncepcie s partnerom?  \\\n",
       "0  Metódy založené na znalosti plodnosti (neplodn...         \n",
       "1  Antikoncepčné tabletky (s alebo bez obsahu est...         \n",
       "2                         Nie som sexuálne aktívny/a         \n",
       "3                                  Prerušovaná súlož         \n",
       "4                         Nie som sexuálne aktívny/a         \n",
       "\n",
       "  Použili ste Vy, alebo Vaša partnerka, niekedy núdzovú antikoncepciu?   (,,tabletka po\" - väčšinou využívaná v prípade nechráneného pohlavného styku alebo zlyhaní antikoncepcie do 3-5 dní)  \\\n",
       "0                                                Áno                                                                                                                                            \n",
       "1                                                Áno                                                                                                                                            \n",
       "2                                                Nie                                                                                                                                            \n",
       "3                                                Áno                                                                                                                                            \n",
       "4                                                Nie                                                                                                                                            \n",
       "\n",
       "  Myslíte si, že ste dostatočne informovaný/á o téme interrupcie? (ako prebiehajú, rôzne formy, legislatíva na Slovensku,...)  \\\n",
       "0                                           Skôr nie                                                                            \n",
       "1                                           Skôr áno                                                                            \n",
       "2                                           Skôr nie                                                                            \n",
       "3                                           Skôr áno                                                                            \n",
       "4                                           Skôr áno                                                                            \n",
       "\n",
       "  V súčasnosti sa na Slovensku čoraz viac diskutuje o sprísnení interrupčných práv. Súhlasíte s týmto návrhom zákona? (predĺženie čakacej doby na interrupciu z 2 na 4 dni, povinnosť dvoch znaleckých posudkov pred interrupciou zo zdravotných dôvodov, zákaz reklamy) celý návrh zákona: https://www.nrsr.sk/web/Dynamic/DocumentPreview.aspx?DocID=479948  \\\n",
       "0                                                Nie                                                                                                                                                                                                                                                                                                            \n",
       "1                                                Nie                                                                                                                                                                                                                                                                                                            \n",
       "2                                             Neviem                                                                                                                                                                                                                                                                                                            \n",
       "3                                                Nie                                                                                                                                                                                                                                                                                                            \n",
       "4                                                Nie                                                                                                                                                                                                                                                                                                            \n",
       "\n",
       "  Myslíte si, že by mala byť interrupčná tabletka legálna na Slovensku?  \\\n",
       "0                                                Áno                      \n",
       "1                                                Áno                      \n",
       "2                                                Áno                      \n",
       "3                                                Áno                      \n",
       "4                                                Áno                      \n",
       "\n",
       "  Poznáte niekoho z Vášho blízkeho okolia, kto podstúpil, alebo ste sama podstúpili, interrupciu?   \n",
       "0                                        Áno, poznám                                                \n",
       "1                                                Nie                                                \n",
       "2                                                Nie                                                \n",
       "3                                        Áno, poznám                                                \n",
       "4                                                Nie                                                "
      ]
     },
     "execution_count": 3,
     "metadata": {},
     "output_type": "execute_result"
    }
   ],
   "source": [
    "del main['Časová pečiatka']\n",
    "main.head()"
   ]
  },
  {
   "cell_type": "code",
   "execution_count": 4,
   "metadata": {},
   "outputs": [],
   "source": [
    "main.columns = ['pohlavie','vek','hodina','akaHodina','doma','zdravySexZ','svadba','prvySex','antikoncepcia','tabletkaPo','interrupcie','navrh','tabletka','podstupil']"
   ]
  },
  {
   "cell_type": "code",
   "execution_count": 5,
   "metadata": {},
   "outputs": [],
   "source": [
    "main['pohlavie'] = np.where((main.pohlavie == 'Žena'),str('f'),main.pohlavie)\n",
    "main['pohlavie'] = np.where((main.pohlavie == 'Muž'),str('m'),main.pohlavie)"
   ]
  },
  {
   "cell_type": "code",
   "execution_count": 6,
   "metadata": {},
   "outputs": [],
   "source": [
    "main['vek'] = np.where((main.vek == 'nad 50'),str('60'),main.vek)\n",
    "main['vek'] = np.where((main.vek == '15 '),str('15'),main.vek)\n",
    "main['vek'] = np.where((main.vek == '17 '),str('17'),main.vek)\n",
    "main['antikoncepcia'] = np.where((main.antikoncepcia == 'Počkať so sexom do svadby'),str('Nie som sexuálne aktívny/a'),main.antikoncepcia)\n",
    "main['navrh'] = np.where((main.navrh == 'Je mi to jedno ale skôr nie '),str('Skôr nie'),main.navrh)\n",
    "main['tabletka'] = np.where((main.tabletka == 'nemám dosť info'),str('Neviem'),main.tabletka)\n",
    "main['tabletka'] = np.where((main.tabletka == 'legálna ano ale nie voľne dostupná '),str('Áno'),main.tabletka)\n",
    "main['tabletka'] = np.where((main.tabletka == 'Určite áno, je to jedna z možností. Pre mladých ľudí dosť častá možnosť.'),str('Áno'),main.tabletka)\n",
    "main['tabletka'] = np.where((main.tabletka == 'Skôr áno ako nie'),str('Áno'),main.tabletka)\n",
    "main['akaHodina'] = np.where((main.akaHodina == 'nemal som'),str('Nemal/a som žiadnu možnosť byť informovaný/á na túto tému na ZŠ ani SŠ'),main.akaHodina)\n",
    "main['akaHodina'] = np.where((main.akaHodina == 'Nepamätám si;Nič'),str('Nepamätám si;Nemal/a som žiadnu možnosť byť informovaný/á na túto tému na ZŠ ani SŠ'),main.akaHodina)\n",
    "main['akaHodina'] = np.where((main.akaHodina == 'Prednáška'),str('Prezentácia/výklad lekára, odborníka'),main.akaHodina)\n",
    "main['akaHodina'] = np.where((main.akaHodina == 'Výklad na hodine biológie ZŠ;prednáška na ZŠ '),str('Výklad na hodine biológie ZŠ'),main.akaHodina)\n",
    "main['akaHodina'] = np.where((main.akaHodina == 'Na ZŠ sme sa o tom bavili na etickej výchove, to len jednu hodinu'),str('Vyhradená hodina v učebnom pláne na ZŠ'),main.akaHodina)"
   ]
  },
  {
   "cell_type": "code",
   "execution_count": 7,
   "metadata": {},
   "outputs": [
    {
     "data": {
      "text/plain": [
       "array(['Vyhradená hodina v učebnom pláne na ZŠ;Vyhradená hodina v učebnom pláne na SŠ',\n",
       "       'Nemal/a som žiadnu možnosť byť informovaný/á na túto tému na ZŠ ani SŠ',\n",
       "       'Výklad na hodine biológie SŠ', 'Výklad na hodine biológie ZŠ',\n",
       "       'Výklad na hodine biológie ZŠ;Výklad na hodine biológie SŠ',\n",
       "       'Prezentácia/výklad lekára, odborníka',\n",
       "       'Prezentácia/výklad lekára, odborníka;Rozdávanie informačných letákov;Vyhradená hodina v učebnom pláne na ZŠ',\n",
       "       'Prezentácia/výklad lekára, odborníka;Rozdávanie informačných letákov',\n",
       "       'Nepamätám si', 'Vyhradená hodina v učebnom pláne na ZŠ',\n",
       "       'Rozdávanie informačných letákov;Vyhradená hodina v učebnom pláne na ZŠ',\n",
       "       'Prezentácie tvorené žiakmi na tému pohlavných chorôb',\n",
       "       'Výklad na hodine biológie ZŠ;Nepamätám si',\n",
       "       'Rozdávanie informačných letákov',\n",
       "       'Nemal/a som žiadnu možnosť byť informovaný/á na túto tému na ZŠ ani SŠ;Prezentácia/výklad lekára, odborníka',\n",
       "       'Výklad na hodine biológie ZŠ;Prezentácia/výklad lekára, odborníka',\n",
       "       'Výklad na hodine biológie ZŠ;Rozdávanie informačných letákov',\n",
       "       'Výklad na hodine biológie SŠ;Prezentácia/výklad lekára, odborníka',\n",
       "       'Nemal/a som žiadnu možnosť byť informovaný/á na túto tému na ZŠ ani SŠ;Výklad na hodine biológie ZŠ',\n",
       "       'Výklad na hodine biológie ZŠ;Vyhradená hodina v učebnom pláne na ZŠ',\n",
       "       'Výklad na hodine biológie ZŠ;Výklad na hodine biológie SŠ;Vyhradená hodina v učebnom pláne na ZŠ',\n",
       "       'Prezentácia/výklad lekára, odborníka;Vyhradená hodina v učebnom pláne na ZŠ',\n",
       "       'Výklad na hodine biológie ZŠ;Prezentácia/výklad lekára, odborníka;Vyhradená hodina v učebnom pláne na ZŠ',\n",
       "       'Výklad na hodine biológie SŠ;Prezentácia/výklad lekára, odborníka;Vyhradená hodina v učebnom pláne na ZŠ',\n",
       "       'Výklad na hodine biológie ZŠ;Prezentácia/výklad lekára, odborníka;Rozdávanie informačných letákov',\n",
       "       'Nemal/a som žiadnu možnosť byť informovaný/á na túto tému na ZŠ ani SŠ;Nepamätám si',\n",
       "       'Výklad na hodine biológie ZŠ;Vyhradená hodina v učebnom pláne na ZŠ;na hodine etickej výchovy (ZŠ)',\n",
       "       'Vyhradená hodina v učebnom pláne na SŠ',\n",
       "       'Výklad na hodine biológie ZŠ;Vyhradená hodina v učebnom pláne na SŠ',\n",
       "       'Výklad na hodine biológie ZŠ;Rozdávanie informačných letákov;Vyhradená hodina v učebnom pláne na ZŠ',\n",
       "       'Výklad na hodine biológie ZŠ;Výklad na hodine biológie SŠ;Rozdávanie informačných letákov;Vyhradená hodina v učebnom pláne na ZŠ',\n",
       "       'Nemal/a som žiadnu možnosť byť informovaný/á na túto tému na ZŠ ani SŠ;Rozdávanie informačných letákov',\n",
       "       'Nepamätám si;Nemal/a som žiadnu možnosť byť informovaný/á na túto tému na ZŠ ani SŠ'],\n",
       "      dtype=object)"
      ]
     },
     "execution_count": 7,
     "metadata": {},
     "output_type": "execute_result"
    }
   ],
   "source": [
    "main.akaHodina.unique()"
   ]
  },
  {
   "cell_type": "code",
   "execution_count": 119,
   "metadata": {},
   "outputs": [
    {
     "data": {
      "text/html": [
       "<div>\n",
       "<style scoped>\n",
       "    .dataframe tbody tr th:only-of-type {\n",
       "        vertical-align: middle;\n",
       "    }\n",
       "\n",
       "    .dataframe tbody tr th {\n",
       "        vertical-align: top;\n",
       "    }\n",
       "\n",
       "    .dataframe thead th {\n",
       "        text-align: right;\n",
       "    }\n",
       "</style>\n",
       "<table border=\"1\" class=\"dataframe\">\n",
       "  <thead>\n",
       "    <tr style=\"text-align: right;\">\n",
       "      <th></th>\n",
       "      <th>pohlavie</th>\n",
       "      <th>vek</th>\n",
       "      <th>hodina</th>\n",
       "      <th>akaHodina</th>\n",
       "      <th>doma</th>\n",
       "      <th>zdravySexZ</th>\n",
       "      <th>svadba</th>\n",
       "      <th>prvySex</th>\n",
       "      <th>antikoncepcia</th>\n",
       "      <th>tabletkaPo</th>\n",
       "      <th>interrupcie</th>\n",
       "      <th>navrh</th>\n",
       "      <th>tabletka</th>\n",
       "      <th>podstupil</th>\n",
       "    </tr>\n",
       "  </thead>\n",
       "  <tbody>\n",
       "    <tr>\n",
       "      <th>0</th>\n",
       "      <td>f</td>\n",
       "      <td>51</td>\n",
       "      <td>Nie</td>\n",
       "      <td>Vyhradená hodina v učebnom pláne na ZŠ;Vyhrade...</td>\n",
       "      <td>Skôr nie</td>\n",
       "      <td>Skôr áno</td>\n",
       "      <td>Nie</td>\n",
       "      <td>19-20</td>\n",
       "      <td>Metódy založené na znalosti plodnosti (neplodn...</td>\n",
       "      <td>Áno</td>\n",
       "      <td>Skôr nie</td>\n",
       "      <td>Nie</td>\n",
       "      <td>Áno</td>\n",
       "      <td>Áno, poznám</td>\n",
       "    </tr>\n",
       "    <tr>\n",
       "      <th>1</th>\n",
       "      <td>f</td>\n",
       "      <td>18</td>\n",
       "      <td>Nie</td>\n",
       "      <td>Nemal/a som žiadnu možnosť byť informovaný/á n...</td>\n",
       "      <td>Skôr áno</td>\n",
       "      <td>Skôr áno</td>\n",
       "      <td>Nie</td>\n",
       "      <td>15-16</td>\n",
       "      <td>Antikoncepčné tabletky (s alebo bez obsahu est...</td>\n",
       "      <td>Áno</td>\n",
       "      <td>Skôr áno</td>\n",
       "      <td>Nie</td>\n",
       "      <td>Áno</td>\n",
       "      <td>Nie</td>\n",
       "    </tr>\n",
       "    <tr>\n",
       "      <th>2</th>\n",
       "      <td>f</td>\n",
       "      <td>19</td>\n",
       "      <td>Nie</td>\n",
       "      <td>Výklad na hodine biológie SŠ</td>\n",
       "      <td>Nie</td>\n",
       "      <td>Skôr áno</td>\n",
       "      <td>Nie</td>\n",
       "      <td>ešte som nemal/a pohlavný styk</td>\n",
       "      <td>Nie som sexuálne aktívny/a</td>\n",
       "      <td>Nie</td>\n",
       "      <td>Skôr nie</td>\n",
       "      <td>Neviem</td>\n",
       "      <td>Áno</td>\n",
       "      <td>Nie</td>\n",
       "    </tr>\n",
       "    <tr>\n",
       "      <th>3</th>\n",
       "      <td>f</td>\n",
       "      <td>18</td>\n",
       "      <td>Áno, jednorázovo</td>\n",
       "      <td>Výklad na hodine biológie ZŠ</td>\n",
       "      <td>Áno</td>\n",
       "      <td>Skôr áno</td>\n",
       "      <td>Nie</td>\n",
       "      <td>17-18</td>\n",
       "      <td>Prerušovaná súlož</td>\n",
       "      <td>Áno</td>\n",
       "      <td>Skôr áno</td>\n",
       "      <td>Nie</td>\n",
       "      <td>Áno</td>\n",
       "      <td>Áno, poznám</td>\n",
       "    </tr>\n",
       "    <tr>\n",
       "      <th>4</th>\n",
       "      <td>f</td>\n",
       "      <td>17</td>\n",
       "      <td>Nie</td>\n",
       "      <td>Nemal/a som žiadnu možnosť byť informovaný/á n...</td>\n",
       "      <td>Skôr nie</td>\n",
       "      <td>Skôr áno</td>\n",
       "      <td>Nie</td>\n",
       "      <td>ešte som nemal/a pohlavný styk</td>\n",
       "      <td>Nie som sexuálne aktívny/a</td>\n",
       "      <td>Nie</td>\n",
       "      <td>Skôr áno</td>\n",
       "      <td>Nie</td>\n",
       "      <td>Áno</td>\n",
       "      <td>Nie</td>\n",
       "    </tr>\n",
       "  </tbody>\n",
       "</table>\n",
       "</div>"
      ],
      "text/plain": [
       "  pohlavie vek            hodina  \\\n",
       "0        f  51               Nie   \n",
       "1        f  18               Nie   \n",
       "2        f  19               Nie   \n",
       "3        f  18  Áno, jednorázovo   \n",
       "4        f  17               Nie   \n",
       "\n",
       "                                           akaHodina      doma zdravySexZ  \\\n",
       "0  Vyhradená hodina v učebnom pláne na ZŠ;Vyhrade...  Skôr nie   Skôr áno   \n",
       "1  Nemal/a som žiadnu možnosť byť informovaný/á n...  Skôr áno   Skôr áno   \n",
       "2                       Výklad na hodine biológie SŠ       Nie   Skôr áno   \n",
       "3                       Výklad na hodine biológie ZŠ       Áno   Skôr áno   \n",
       "4  Nemal/a som žiadnu možnosť byť informovaný/á n...  Skôr nie   Skôr áno   \n",
       "\n",
       "  svadba                         prvySex  \\\n",
       "0    Nie                           19-20   \n",
       "1    Nie                           15-16   \n",
       "2    Nie  ešte som nemal/a pohlavný styk   \n",
       "3    Nie                           17-18   \n",
       "4    Nie  ešte som nemal/a pohlavný styk   \n",
       "\n",
       "                                       antikoncepcia tabletkaPo interrupcie  \\\n",
       "0  Metódy založené na znalosti plodnosti (neplodn...        Áno    Skôr nie   \n",
       "1  Antikoncepčné tabletky (s alebo bez obsahu est...        Áno    Skôr áno   \n",
       "2                         Nie som sexuálne aktívny/a        Nie    Skôr nie   \n",
       "3                                  Prerušovaná súlož        Áno    Skôr áno   \n",
       "4                         Nie som sexuálne aktívny/a        Nie    Skôr áno   \n",
       "\n",
       "    navrh tabletka    podstupil  \n",
       "0     Nie      Áno  Áno, poznám  \n",
       "1     Nie      Áno          Nie  \n",
       "2  Neviem      Áno          Nie  \n",
       "3     Nie      Áno  Áno, poznám  \n",
       "4     Nie      Áno          Nie  "
      ]
     },
     "execution_count": 119,
     "metadata": {},
     "output_type": "execute_result"
    }
   ],
   "source": [
    "main.head()"
   ]
  },
  {
   "cell_type": "code",
   "execution_count": 40,
   "metadata": {},
   "outputs": [],
   "source": [
    "korelacia = main\n",
    "korelacia = korelacia[['vek','prvySex']]\n",
    "korelacia\n",
    "pearsonTest = main\n",
    "pearsonTest = pearsonTest[['navrh' , 'tabletka']]\n",
    "skuska = main[['hodina','zdravySexZ']]\n",
    "skuska2 = main[['interrupcie','navrh']]"
   ]
  },
  {
   "cell_type": "code",
   "execution_count": 121,
   "metadata": {},
   "outputs": [
    {
     "name": "stdout",
     "output_type": "stream",
     "text": [
      "vek        object\n",
      "prvySex    object\n",
      "dtype: object\n"
     ]
    }
   ],
   "source": [
    "print(korelacia.dtypes)"
   ]
  },
  {
   "cell_type": "code",
   "execution_count": 122,
   "metadata": {},
   "outputs": [
    {
     "name": "stderr",
     "output_type": "stream",
     "text": [
      "<ipython-input-122-49fa3a6112fc>:1: SettingWithCopyWarning: \n",
      "A value is trying to be set on a copy of a slice from a DataFrame.\n",
      "Try using .loc[row_indexer,col_indexer] = value instead\n",
      "\n",
      "See the caveats in the documentation: https://pandas.pydata.org/pandas-docs/stable/user_guide/indexing.html#returning-a-view-versus-a-copy\n",
      "  korelacia['vek'] = pd.to_numeric(korelacia['vek'], errors='coerce')\n"
     ]
    }
   ],
   "source": [
    "korelacia['vek'] = pd.to_numeric(korelacia['vek'], errors='coerce')"
   ]
  },
  {
   "cell_type": "code",
   "execution_count": 123,
   "metadata": {},
   "outputs": [
    {
     "name": "stdout",
     "output_type": "stream",
     "text": [
      "vek         int64\n",
      "prvySex    object\n",
      "dtype: object\n"
     ]
    },
    {
     "data": {
      "text/html": [
       "<div>\n",
       "<style scoped>\n",
       "    .dataframe tbody tr th:only-of-type {\n",
       "        vertical-align: middle;\n",
       "    }\n",
       "\n",
       "    .dataframe tbody tr th {\n",
       "        vertical-align: top;\n",
       "    }\n",
       "\n",
       "    .dataframe thead th {\n",
       "        text-align: right;\n",
       "    }\n",
       "</style>\n",
       "<table border=\"1\" class=\"dataframe\">\n",
       "  <thead>\n",
       "    <tr style=\"text-align: right;\">\n",
       "      <th></th>\n",
       "      <th>vek</th>\n",
       "      <th>prvySex</th>\n",
       "    </tr>\n",
       "  </thead>\n",
       "  <tbody>\n",
       "    <tr>\n",
       "      <th>0</th>\n",
       "      <td>51</td>\n",
       "      <td>19-20</td>\n",
       "    </tr>\n",
       "    <tr>\n",
       "      <th>1</th>\n",
       "      <td>18</td>\n",
       "      <td>15-16</td>\n",
       "    </tr>\n",
       "    <tr>\n",
       "      <th>2</th>\n",
       "      <td>19</td>\n",
       "      <td>ešte som nemal/a pohlavný styk</td>\n",
       "    </tr>\n",
       "    <tr>\n",
       "      <th>3</th>\n",
       "      <td>18</td>\n",
       "      <td>17-18</td>\n",
       "    </tr>\n",
       "    <tr>\n",
       "      <th>4</th>\n",
       "      <td>17</td>\n",
       "      <td>ešte som nemal/a pohlavný styk</td>\n",
       "    </tr>\n",
       "    <tr>\n",
       "      <th>...</th>\n",
       "      <td>...</td>\n",
       "      <td>...</td>\n",
       "    </tr>\n",
       "    <tr>\n",
       "      <th>301</th>\n",
       "      <td>16</td>\n",
       "      <td>ešte som nemal/a pohlavný styk</td>\n",
       "    </tr>\n",
       "    <tr>\n",
       "      <th>302</th>\n",
       "      <td>17</td>\n",
       "      <td>ešte som nemal/a pohlavný styk</td>\n",
       "    </tr>\n",
       "    <tr>\n",
       "      <th>303</th>\n",
       "      <td>18</td>\n",
       "      <td>ešte som nemal/a pohlavný styk</td>\n",
       "    </tr>\n",
       "    <tr>\n",
       "      <th>304</th>\n",
       "      <td>18</td>\n",
       "      <td>ešte som nemal/a pohlavný styk</td>\n",
       "    </tr>\n",
       "    <tr>\n",
       "      <th>305</th>\n",
       "      <td>18</td>\n",
       "      <td>ešte som nemal/a pohlavný styk</td>\n",
       "    </tr>\n",
       "  </tbody>\n",
       "</table>\n",
       "<p>306 rows × 2 columns</p>\n",
       "</div>"
      ],
      "text/plain": [
       "     vek                         prvySex\n",
       "0     51                           19-20\n",
       "1     18                           15-16\n",
       "2     19  ešte som nemal/a pohlavný styk\n",
       "3     18                           17-18\n",
       "4     17  ešte som nemal/a pohlavný styk\n",
       "..   ...                             ...\n",
       "301   16  ešte som nemal/a pohlavný styk\n",
       "302   17  ešte som nemal/a pohlavný styk\n",
       "303   18  ešte som nemal/a pohlavný styk\n",
       "304   18  ešte som nemal/a pohlavný styk\n",
       "305   18  ešte som nemal/a pohlavný styk\n",
       "\n",
       "[306 rows x 2 columns]"
      ]
     },
     "execution_count": 123,
     "metadata": {},
     "output_type": "execute_result"
    }
   ],
   "source": [
    "print(korelacia.dtypes)\n",
    "korelacia"
   ]
  },
  {
   "cell_type": "code",
   "execution_count": 124,
   "metadata": {},
   "outputs": [],
   "source": [
    "# indexNoSex = korelacia[korelacia['prvySex'] == 'ešte som nemal/a pohlavný styk' ].index\n",
    "# korelacia.drop(indexNoSex , inplace=True)"
   ]
  },
  {
   "cell_type": "code",
   "execution_count": 125,
   "metadata": {},
   "outputs": [
    {
     "data": {
      "text/plain": [
       "197"
      ]
     },
     "execution_count": 125,
     "metadata": {},
     "output_type": "execute_result"
    }
   ],
   "source": [
    "len(korelacia[korelacia['prvySex'].str.contains('ešte som nemal/a pohlavný styk')])"
   ]
  },
  {
   "cell_type": "code",
   "execution_count": 126,
   "metadata": {},
   "outputs": [],
   "source": [
    "indexNoSex = list(korelacia[korelacia['prvySex'].str.contains('ešte som nemal/a pohlavný styk')].index)"
   ]
  },
  {
   "cell_type": "code",
   "execution_count": 127,
   "metadata": {},
   "outputs": [
    {
     "data": {
      "text/plain": [
       "list"
      ]
     },
     "execution_count": 127,
     "metadata": {},
     "output_type": "execute_result"
    }
   ],
   "source": [
    "type(indexNoSex)"
   ]
  },
  {
   "cell_type": "code",
   "execution_count": 128,
   "metadata": {},
   "outputs": [],
   "source": [
    "korelacia = korelacia.drop(indexNoSex)"
   ]
  },
  {
   "cell_type": "code",
   "execution_count": 129,
   "metadata": {},
   "outputs": [
    {
     "data": {
      "text/html": [
       "<div>\n",
       "<style scoped>\n",
       "    .dataframe tbody tr th:only-of-type {\n",
       "        vertical-align: middle;\n",
       "    }\n",
       "\n",
       "    .dataframe tbody tr th {\n",
       "        vertical-align: top;\n",
       "    }\n",
       "\n",
       "    .dataframe thead th {\n",
       "        text-align: right;\n",
       "    }\n",
       "</style>\n",
       "<table border=\"1\" class=\"dataframe\">\n",
       "  <thead>\n",
       "    <tr style=\"text-align: right;\">\n",
       "      <th></th>\n",
       "      <th>vek</th>\n",
       "      <th>prvySex</th>\n",
       "    </tr>\n",
       "  </thead>\n",
       "  <tbody>\n",
       "    <tr>\n",
       "      <th>0</th>\n",
       "      <td>51</td>\n",
       "      <td>19-20</td>\n",
       "    </tr>\n",
       "    <tr>\n",
       "      <th>1</th>\n",
       "      <td>18</td>\n",
       "      <td>15-16</td>\n",
       "    </tr>\n",
       "    <tr>\n",
       "      <th>3</th>\n",
       "      <td>18</td>\n",
       "      <td>17-18</td>\n",
       "    </tr>\n",
       "    <tr>\n",
       "      <th>5</th>\n",
       "      <td>19</td>\n",
       "      <td>15-16</td>\n",
       "    </tr>\n",
       "    <tr>\n",
       "      <th>8</th>\n",
       "      <td>18</td>\n",
       "      <td>17-18</td>\n",
       "    </tr>\n",
       "    <tr>\n",
       "      <th>...</th>\n",
       "      <td>...</td>\n",
       "      <td>...</td>\n",
       "    </tr>\n",
       "    <tr>\n",
       "      <th>276</th>\n",
       "      <td>16</td>\n",
       "      <td>15-16</td>\n",
       "    </tr>\n",
       "    <tr>\n",
       "      <th>285</th>\n",
       "      <td>17</td>\n",
       "      <td>17-18</td>\n",
       "    </tr>\n",
       "    <tr>\n",
       "      <th>287</th>\n",
       "      <td>19</td>\n",
       "      <td>17-18</td>\n",
       "    </tr>\n",
       "    <tr>\n",
       "      <th>291</th>\n",
       "      <td>60</td>\n",
       "      <td>17-18</td>\n",
       "    </tr>\n",
       "    <tr>\n",
       "      <th>298</th>\n",
       "      <td>19</td>\n",
       "      <td>17-18</td>\n",
       "    </tr>\n",
       "  </tbody>\n",
       "</table>\n",
       "<p>109 rows × 2 columns</p>\n",
       "</div>"
      ],
      "text/plain": [
       "     vek prvySex\n",
       "0     51   19-20\n",
       "1     18   15-16\n",
       "3     18   17-18\n",
       "5     19   15-16\n",
       "8     18   17-18\n",
       "..   ...     ...\n",
       "276   16   15-16\n",
       "285   17   17-18\n",
       "287   19   17-18\n",
       "291   60   17-18\n",
       "298   19   17-18\n",
       "\n",
       "[109 rows x 2 columns]"
      ]
     },
     "execution_count": 129,
     "metadata": {},
     "output_type": "execute_result"
    }
   ],
   "source": [
    "korelacia"
   ]
  },
  {
   "cell_type": "code",
   "execution_count": 130,
   "metadata": {},
   "outputs": [
    {
     "data": {
      "text/plain": [
       "109"
      ]
     },
     "execution_count": 130,
     "metadata": {},
     "output_type": "execute_result"
    }
   ],
   "source": [
    "len(korelacia)"
   ]
  },
  {
   "cell_type": "code",
   "execution_count": 131,
   "metadata": {},
   "outputs": [],
   "source": [
    "korelacia['prvySex'] = np.where((korelacia.prvySex == '19-20'),float(19.5),korelacia.prvySex)\n",
    "korelacia['prvySex'] = np.where((korelacia.prvySex == 'do 14'),float(14.0),korelacia.prvySex)\n",
    "korelacia['prvySex'] = np.where((korelacia.prvySex == '15-16'),float(15.5),korelacia.prvySex)\n",
    "korelacia['prvySex'] = np.where((korelacia.prvySex == '17-18'),float(17.5),korelacia.prvySex)\n",
    "korelacia['prvySex'] = np.where((korelacia.prvySex == '21-25'),float(23.0),korelacia.prvySex)\n",
    "korelacia['prvySex'] = np.where((korelacia.prvySex == '26 a viac'),float(26.0),korelacia.prvySex)"
   ]
  },
  {
   "cell_type": "code",
   "execution_count": 132,
   "metadata": {},
   "outputs": [
    {
     "data": {
      "text/html": [
       "<div>\n",
       "<style scoped>\n",
       "    .dataframe tbody tr th:only-of-type {\n",
       "        vertical-align: middle;\n",
       "    }\n",
       "\n",
       "    .dataframe tbody tr th {\n",
       "        vertical-align: top;\n",
       "    }\n",
       "\n",
       "    .dataframe thead th {\n",
       "        text-align: right;\n",
       "    }\n",
       "</style>\n",
       "<table border=\"1\" class=\"dataframe\">\n",
       "  <thead>\n",
       "    <tr style=\"text-align: right;\">\n",
       "      <th></th>\n",
       "      <th>vek</th>\n",
       "      <th>prvySex</th>\n",
       "    </tr>\n",
       "  </thead>\n",
       "  <tbody>\n",
       "    <tr>\n",
       "      <th>0</th>\n",
       "      <td>51</td>\n",
       "      <td>19.5</td>\n",
       "    </tr>\n",
       "    <tr>\n",
       "      <th>1</th>\n",
       "      <td>18</td>\n",
       "      <td>15.5</td>\n",
       "    </tr>\n",
       "    <tr>\n",
       "      <th>3</th>\n",
       "      <td>18</td>\n",
       "      <td>17.5</td>\n",
       "    </tr>\n",
       "    <tr>\n",
       "      <th>5</th>\n",
       "      <td>19</td>\n",
       "      <td>15.5</td>\n",
       "    </tr>\n",
       "    <tr>\n",
       "      <th>8</th>\n",
       "      <td>18</td>\n",
       "      <td>17.5</td>\n",
       "    </tr>\n",
       "    <tr>\n",
       "      <th>...</th>\n",
       "      <td>...</td>\n",
       "      <td>...</td>\n",
       "    </tr>\n",
       "    <tr>\n",
       "      <th>276</th>\n",
       "      <td>16</td>\n",
       "      <td>15.5</td>\n",
       "    </tr>\n",
       "    <tr>\n",
       "      <th>285</th>\n",
       "      <td>17</td>\n",
       "      <td>17.5</td>\n",
       "    </tr>\n",
       "    <tr>\n",
       "      <th>287</th>\n",
       "      <td>19</td>\n",
       "      <td>17.5</td>\n",
       "    </tr>\n",
       "    <tr>\n",
       "      <th>291</th>\n",
       "      <td>60</td>\n",
       "      <td>17.5</td>\n",
       "    </tr>\n",
       "    <tr>\n",
       "      <th>298</th>\n",
       "      <td>19</td>\n",
       "      <td>17.5</td>\n",
       "    </tr>\n",
       "  </tbody>\n",
       "</table>\n",
       "<p>109 rows × 2 columns</p>\n",
       "</div>"
      ],
      "text/plain": [
       "     vek prvySex\n",
       "0     51    19.5\n",
       "1     18    15.5\n",
       "3     18    17.5\n",
       "5     19    15.5\n",
       "8     18    17.5\n",
       "..   ...     ...\n",
       "276   16    15.5\n",
       "285   17    17.5\n",
       "287   19    17.5\n",
       "291   60    17.5\n",
       "298   19    17.5\n",
       "\n",
       "[109 rows x 2 columns]"
      ]
     },
     "execution_count": 132,
     "metadata": {},
     "output_type": "execute_result"
    }
   ],
   "source": [
    "korelacia"
   ]
  },
  {
   "cell_type": "code",
   "execution_count": 133,
   "metadata": {},
   "outputs": [],
   "source": [
    "korelacia['prvySex'] = pd.to_numeric(korelacia['prvySex'], errors='coerce')"
   ]
  },
  {
   "cell_type": "code",
   "execution_count": 134,
   "metadata": {},
   "outputs": [
    {
     "name": "stdout",
     "output_type": "stream",
     "text": [
      "vek          int64\n",
      "prvySex    float64\n",
      "dtype: object\n"
     ]
    }
   ],
   "source": [
    "print(korelacia.dtypes)"
   ]
  },
  {
   "cell_type": "code",
   "execution_count": 135,
   "metadata": {},
   "outputs": [
    {
     "data": {
      "text/html": [
       "<div>\n",
       "<style scoped>\n",
       "    .dataframe tbody tr th:only-of-type {\n",
       "        vertical-align: middle;\n",
       "    }\n",
       "\n",
       "    .dataframe tbody tr th {\n",
       "        vertical-align: top;\n",
       "    }\n",
       "\n",
       "    .dataframe thead th {\n",
       "        text-align: right;\n",
       "    }\n",
       "</style>\n",
       "<table border=\"1\" class=\"dataframe\">\n",
       "  <thead>\n",
       "    <tr style=\"text-align: right;\">\n",
       "      <th></th>\n",
       "      <th>vek</th>\n",
       "      <th>prvySex</th>\n",
       "    </tr>\n",
       "  </thead>\n",
       "  <tbody>\n",
       "    <tr>\n",
       "      <th>0</th>\n",
       "      <td>51</td>\n",
       "      <td>19.5</td>\n",
       "    </tr>\n",
       "    <tr>\n",
       "      <th>1</th>\n",
       "      <td>18</td>\n",
       "      <td>15.5</td>\n",
       "    </tr>\n",
       "    <tr>\n",
       "      <th>3</th>\n",
       "      <td>18</td>\n",
       "      <td>17.5</td>\n",
       "    </tr>\n",
       "    <tr>\n",
       "      <th>5</th>\n",
       "      <td>19</td>\n",
       "      <td>15.5</td>\n",
       "    </tr>\n",
       "    <tr>\n",
       "      <th>8</th>\n",
       "      <td>18</td>\n",
       "      <td>17.5</td>\n",
       "    </tr>\n",
       "    <tr>\n",
       "      <th>...</th>\n",
       "      <td>...</td>\n",
       "      <td>...</td>\n",
       "    </tr>\n",
       "    <tr>\n",
       "      <th>276</th>\n",
       "      <td>16</td>\n",
       "      <td>15.5</td>\n",
       "    </tr>\n",
       "    <tr>\n",
       "      <th>285</th>\n",
       "      <td>17</td>\n",
       "      <td>17.5</td>\n",
       "    </tr>\n",
       "    <tr>\n",
       "      <th>287</th>\n",
       "      <td>19</td>\n",
       "      <td>17.5</td>\n",
       "    </tr>\n",
       "    <tr>\n",
       "      <th>291</th>\n",
       "      <td>60</td>\n",
       "      <td>17.5</td>\n",
       "    </tr>\n",
       "    <tr>\n",
       "      <th>298</th>\n",
       "      <td>19</td>\n",
       "      <td>17.5</td>\n",
       "    </tr>\n",
       "  </tbody>\n",
       "</table>\n",
       "<p>109 rows × 2 columns</p>\n",
       "</div>"
      ],
      "text/plain": [
       "     vek  prvySex\n",
       "0     51     19.5\n",
       "1     18     15.5\n",
       "3     18     17.5\n",
       "5     19     15.5\n",
       "8     18     17.5\n",
       "..   ...      ...\n",
       "276   16     15.5\n",
       "285   17     17.5\n",
       "287   19     17.5\n",
       "291   60     17.5\n",
       "298   19     17.5\n",
       "\n",
       "[109 rows x 2 columns]"
      ]
     },
     "execution_count": 135,
     "metadata": {},
     "output_type": "execute_result"
    }
   ],
   "source": [
    "korelacia"
   ]
  },
  {
   "cell_type": "markdown",
   "metadata": {},
   "source": [
    "# <strong><span style=\"color:red\">Koniec nastaveni</span></strong>\n",
    "---"
   ]
  },
  {
   "cell_type": "markdown",
   "metadata": {},
   "source": [
    "<strong>\n",
    "    Korelacia</strong>"
   ]
  },
  {
   "cell_type": "code",
   "execution_count": 22,
   "metadata": {},
   "outputs": [],
   "source": [
    "grafKorelacia = korelacia.corr()"
   ]
  },
  {
   "cell_type": "code",
   "execution_count": 23,
   "metadata": {},
   "outputs": [
    {
     "data": {
      "text/plain": [
       "<matplotlib.axes._subplots.AxesSubplot at 0x7fa9cbe7f1c0>"
      ]
     },
     "execution_count": 23,
     "metadata": {},
     "output_type": "execute_result"
    },
    {
     "data": {
      "image/png": "[encoded data removed]",
      "text/plain": [
       "<Figure size 432x288 with 1 Axes>"
      ]
     },
     "metadata": {
      "needs_background": "light"
     },
     "output_type": "display_data"
    }
   ],
   "source": [
    "korelacia.corr().plot(kind='bar')"
   ]
  },
  {
   "cell_type": "markdown",
   "metadata": {},
   "source": [
    "---\n",
    "<strong>\n",
    "    regresia</strong>"
   ]
  },
  {
   "cell_type": "code",
   "execution_count": 24,
   "metadata": {},
   "outputs": [
    {
     "data": {
      "text/plain": [
       "[<matplotlib.lines.Line2D at 0x7fa9cbf90850>]"
      ]
     },
     "execution_count": 24,
     "metadata": {},
     "output_type": "execute_result"
    },
    {
     "data": {
      "image/png": "[encoded data removed]",
      "text/plain": [
       "<Figure size 432x288 with 1 Axes>"
      ]
     },
     "metadata": {
      "needs_background": "light"
     },
     "output_type": "display_data"
    }
   ],
   "source": [
    "import matplotlib.pyplot as plt\n",
    "plt.scatter(korelacia['vek'],korelacia['prvySex'])\n",
    "plt.title('Korelacia veku a prveho pohl styku')\n",
    "plt.xlabel('vek')\n",
    "plt.ylabel('prvySex')\n",
    "plt.plot(np.unique(korelacia['vek']), np.poly1d(np.polyfit(korelacia['vek'], korelacia['prvySex'], 1))(np.unique(korelacia['vek'])), color='red')"
   ]
  },
  {
   "cell_type": "code",
   "execution_count": 25,
   "metadata": {},
   "outputs": [
    {
     "name": "stdout",
     "output_type": "stream",
     "text": [
      "[[1.         0.54579053]\n",
      " [0.54579053 1.        ]]\n"
     ]
    }
   ],
   "source": [
    "print(np.corrcoef(korelacia['vek'], korelacia['prvySex']))"
   ]
  },
  {
   "cell_type": "markdown",
   "metadata": {},
   "source": [
    "---\n",
    "<strong>\n",
    "    Box Plot</strong>"
   ]
  },
  {
   "cell_type": "code",
   "execution_count": 26,
   "metadata": {},
   "outputs": [
    {
     "data": {
      "text/html": [
       "<div>\n",
       "<style scoped>\n",
       "    .dataframe tbody tr th:only-of-type {\n",
       "        vertical-align: middle;\n",
       "    }\n",
       "\n",
       "    .dataframe tbody tr th {\n",
       "        vertical-align: top;\n",
       "    }\n",
       "\n",
       "    .dataframe thead th {\n",
       "        text-align: right;\n",
       "    }\n",
       "</style>\n",
       "<table border=\"1\" class=\"dataframe\">\n",
       "  <thead>\n",
       "    <tr style=\"text-align: right;\">\n",
       "      <th></th>\n",
       "      <th>vek</th>\n",
       "      <th>prvySex</th>\n",
       "    </tr>\n",
       "  </thead>\n",
       "  <tbody>\n",
       "    <tr>\n",
       "      <th>82</th>\n",
       "      <td>17</td>\n",
       "      <td>14.0</td>\n",
       "    </tr>\n",
       "    <tr>\n",
       "      <th>238</th>\n",
       "      <td>34</td>\n",
       "      <td>14.0</td>\n",
       "    </tr>\n",
       "    <tr>\n",
       "      <th>25</th>\n",
       "      <td>18</td>\n",
       "      <td>14.0</td>\n",
       "    </tr>\n",
       "    <tr>\n",
       "      <th>249</th>\n",
       "      <td>17</td>\n",
       "      <td>14.0</td>\n",
       "    </tr>\n",
       "    <tr>\n",
       "      <th>250</th>\n",
       "      <td>17</td>\n",
       "      <td>14.0</td>\n",
       "    </tr>\n",
       "    <tr>\n",
       "      <th>...</th>\n",
       "      <td>...</td>\n",
       "      <td>...</td>\n",
       "    </tr>\n",
       "    <tr>\n",
       "      <th>138</th>\n",
       "      <td>17</td>\n",
       "      <td>17.5</td>\n",
       "    </tr>\n",
       "    <tr>\n",
       "      <th>167</th>\n",
       "      <td>39</td>\n",
       "      <td>19.5</td>\n",
       "    </tr>\n",
       "    <tr>\n",
       "      <th>0</th>\n",
       "      <td>51</td>\n",
       "      <td>19.5</td>\n",
       "    </tr>\n",
       "    <tr>\n",
       "      <th>235</th>\n",
       "      <td>46</td>\n",
       "      <td>23.0</td>\n",
       "    </tr>\n",
       "    <tr>\n",
       "      <th>144</th>\n",
       "      <td>60</td>\n",
       "      <td>23.0</td>\n",
       "    </tr>\n",
       "  </tbody>\n",
       "</table>\n",
       "<p>109 rows × 2 columns</p>\n",
       "</div>"
      ],
      "text/plain": [
       "     vek  prvySex\n",
       "82    17     14.0\n",
       "238   34     14.0\n",
       "25    18     14.0\n",
       "249   17     14.0\n",
       "250   17     14.0\n",
       "..   ...      ...\n",
       "138   17     17.5\n",
       "167   39     19.5\n",
       "0     51     19.5\n",
       "235   46     23.0\n",
       "144   60     23.0\n",
       "\n",
       "[109 rows x 2 columns]"
      ]
     },
     "execution_count": 26,
     "metadata": {},
     "output_type": "execute_result"
    }
   ],
   "source": [
    "korelacia.sort_values(by=['prvySex'])"
   ]
  },
  {
   "cell_type": "code",
   "execution_count": 27,
   "metadata": {},
   "outputs": [
    {
     "data": {
      "image/png": "[encoded data removed]",
      "text/plain": [
       "<Figure size 432x288 with 1 Axes>"
      ]
     },
     "metadata": {
      "needs_background": "light"
     },
     "output_type": "display_data"
    }
   ],
   "source": [
    "BPO = korelacia.boxplot(column=['prvySex'])"
   ]
  },
  {
   "cell_type": "markdown",
   "metadata": {},
   "source": [
    "---\n",
    "<strong>\n",
    "    median</strong>"
   ]
  },
  {
   "cell_type": "code",
   "execution_count": 28,
   "metadata": {},
   "outputs": [
    {
     "data": {
      "text/plain": [
       "18.0"
      ]
     },
     "execution_count": 28,
     "metadata": {},
     "output_type": "execute_result"
    }
   ],
   "source": [
    "korelacia['vek'].median()"
   ]
  },
  {
   "cell_type": "code",
   "execution_count": 29,
   "metadata": {},
   "outputs": [
    {
     "data": {
      "text/plain": [
       "15.5"
      ]
     },
     "execution_count": 29,
     "metadata": {},
     "output_type": "execute_result"
    }
   ],
   "source": [
    "korelacia['prvySex'].median()"
   ]
  },
  {
   "cell_type": "code",
   "execution_count": 30,
   "metadata": {},
   "outputs": [
    {
     "data": {
      "text/html": [
       "<div>\n",
       "<style scoped>\n",
       "    .dataframe tbody tr th:only-of-type {\n",
       "        vertical-align: middle;\n",
       "    }\n",
       "\n",
       "    .dataframe tbody tr th {\n",
       "        vertical-align: top;\n",
       "    }\n",
       "\n",
       "    .dataframe thead th {\n",
       "        text-align: right;\n",
       "    }\n",
       "</style>\n",
       "<table border=\"1\" class=\"dataframe\">\n",
       "  <thead>\n",
       "    <tr style=\"text-align: right;\">\n",
       "      <th></th>\n",
       "      <th>vek</th>\n",
       "      <th>prvySex</th>\n",
       "    </tr>\n",
       "  </thead>\n",
       "  <tbody>\n",
       "    <tr>\n",
       "      <th>0</th>\n",
       "      <td>18</td>\n",
       "      <td>17.5</td>\n",
       "    </tr>\n",
       "  </tbody>\n",
       "</table>\n",
       "</div>"
      ],
      "text/plain": [
       "   vek  prvySex\n",
       "0   18     17.5"
      ]
     },
     "execution_count": 30,
     "metadata": {},
     "output_type": "execute_result"
    }
   ],
   "source": [
    "korelacia.mode()"
   ]
  },
  {
   "cell_type": "code",
   "execution_count": 31,
   "metadata": {},
   "outputs": [
    {
     "data": {
      "text/plain": [
       "16.53211009174312"
      ]
     },
     "execution_count": 31,
     "metadata": {},
     "output_type": "execute_result"
    }
   ],
   "source": [
    "korelacia['prvySex'].mean()"
   ]
  },
  {
   "cell_type": "code",
   "execution_count": 32,
   "metadata": {},
   "outputs": [
    {
     "data": {
      "text/plain": [
       "19.678899082568808"
      ]
     },
     "execution_count": 32,
     "metadata": {},
     "output_type": "execute_result"
    }
   ],
   "source": [
    "korelacia['vek'].mean()"
   ]
  },
  {
   "cell_type": "code",
   "execution_count": 157,
   "metadata": {},
   "outputs": [],
   "source": [
    "# pearsonTest['navrh'] = pearsonTest['navrh'].astype(\"category\")\n",
    "# pearsonTest['tabletka'] = pearsonTest['tabletka'].astype(\"category\")"
   ]
  },
  {
   "cell_type": "code",
   "execution_count": 162,
   "metadata": {},
   "outputs": [
    {
     "data": {
      "text/html": [
       "<div>\n",
       "<style scoped>\n",
       "    .dataframe tbody tr th:only-of-type {\n",
       "        vertical-align: middle;\n",
       "    }\n",
       "\n",
       "    .dataframe tbody tr th {\n",
       "        vertical-align: top;\n",
       "    }\n",
       "\n",
       "    .dataframe thead th {\n",
       "        text-align: right;\n",
       "    }\n",
       "</style>\n",
       "<table border=\"1\" class=\"dataframe\">\n",
       "  <thead>\n",
       "    <tr style=\"text-align: right;\">\n",
       "      <th></th>\n",
       "      <th>navrh</th>\n",
       "      <th>tabletka</th>\n",
       "    </tr>\n",
       "  </thead>\n",
       "  <tbody>\n",
       "    <tr>\n",
       "      <th>0</th>\n",
       "      <td>Nie</td>\n",
       "      <td>Áno</td>\n",
       "    </tr>\n",
       "    <tr>\n",
       "      <th>1</th>\n",
       "      <td>Nie</td>\n",
       "      <td>Áno</td>\n",
       "    </tr>\n",
       "    <tr>\n",
       "      <th>2</th>\n",
       "      <td>Neviem</td>\n",
       "      <td>Áno</td>\n",
       "    </tr>\n",
       "    <tr>\n",
       "      <th>3</th>\n",
       "      <td>Nie</td>\n",
       "      <td>Áno</td>\n",
       "    </tr>\n",
       "    <tr>\n",
       "      <th>4</th>\n",
       "      <td>Nie</td>\n",
       "      <td>Áno</td>\n",
       "    </tr>\n",
       "    <tr>\n",
       "      <th>...</th>\n",
       "      <td>...</td>\n",
       "      <td>...</td>\n",
       "    </tr>\n",
       "    <tr>\n",
       "      <th>301</th>\n",
       "      <td>Neviem</td>\n",
       "      <td>Neviem</td>\n",
       "    </tr>\n",
       "    <tr>\n",
       "      <th>302</th>\n",
       "      <td>Nie</td>\n",
       "      <td>Áno</td>\n",
       "    </tr>\n",
       "    <tr>\n",
       "      <th>303</th>\n",
       "      <td>Neviem</td>\n",
       "      <td>Neviem</td>\n",
       "    </tr>\n",
       "    <tr>\n",
       "      <th>304</th>\n",
       "      <td>Neviem</td>\n",
       "      <td>Neviem</td>\n",
       "    </tr>\n",
       "    <tr>\n",
       "      <th>305</th>\n",
       "      <td>Neviem</td>\n",
       "      <td>Neviem</td>\n",
       "    </tr>\n",
       "  </tbody>\n",
       "</table>\n",
       "<p>306 rows × 2 columns</p>\n",
       "</div>"
      ],
      "text/plain": [
       "      navrh tabletka\n",
       "0       Nie      Áno\n",
       "1       Nie      Áno\n",
       "2    Neviem      Áno\n",
       "3       Nie      Áno\n",
       "4       Nie      Áno\n",
       "..      ...      ...\n",
       "301  Neviem   Neviem\n",
       "302     Nie      Áno\n",
       "303  Neviem   Neviem\n",
       "304  Neviem   Neviem\n",
       "305  Neviem   Neviem\n",
       "\n",
       "[306 rows x 2 columns]"
      ]
     },
     "execution_count": 162,
     "metadata": {},
     "output_type": "execute_result"
    }
   ],
   "source": [
    "pearsonTest"
   ]
  },
  {
   "cell_type": "code",
   "execution_count": 182,
   "metadata": {},
   "outputs": [],
   "source": [
    "import scipy.stats as ss\n",
    "def cramers_corrected_stat(x, y):\n",
    "    \"\"\" calculate Cramers V statistic for categorial-categorial association.\n",
    "        uses correction from Bergsma and Wicher, \n",
    "        Journal of the Korean Statistical Society 42 (2013): 323-328\n",
    "    \"\"\"\n",
    "    result=-1\n",
    "    if len(x.value_counts())==1 :\n",
    "        print(\"First variable is constant\")\n",
    "    elif len(y.value_counts())==1:\n",
    "        print(\"Second variable is constant\")\n",
    "    else:   \n",
    "        conf_matrix=pd.crosstab(x, y)\n",
    "\n",
    "        if conf_matrix.shape[0]==2:\n",
    "            correct=False\n",
    "        else:\n",
    "            correct=True\n",
    "\n",
    "        chi2 = ss.chi2_contingency(conf_matrix, correction=correct)[0]\n",
    "\n",
    "        n = sum(conf_matrix.sum())\n",
    "        phi2 = chi2/n\n",
    "        r,k = conf_matrix.shape\n",
    "        phi2corr = max(0, phi2 - ((k-1)*(r-1))/(n-1))    \n",
    "        rcorr = r - ((r-1)**2)/(n-1)\n",
    "        kcorr = k - ((k-1)**2)/(n-1)\n",
    "        result=np.sqrt(phi2corr / min( (kcorr-1), (rcorr-1)))\n",
    "    return round(result,6)"
   ]
  },
  {
   "cell_type": "code",
   "execution_count": 183,
   "metadata": {},
   "outputs": [],
   "source": [
    "confusionMatrix = pd.crosstab(pearsonTest['navrh'], pearsonTest['tabletka'])"
   ]
  },
  {
   "cell_type": "code",
   "execution_count": 184,
   "metadata": {},
   "outputs": [
    {
     "data": {
      "text/html": [
       "<div>\n",
       "<style scoped>\n",
       "    .dataframe tbody tr th:only-of-type {\n",
       "        vertical-align: middle;\n",
       "    }\n",
       "\n",
       "    .dataframe tbody tr th {\n",
       "        vertical-align: top;\n",
       "    }\n",
       "\n",
       "    .dataframe thead th {\n",
       "        text-align: right;\n",
       "    }\n",
       "</style>\n",
       "<table border=\"1\" class=\"dataframe\">\n",
       "  <thead>\n",
       "    <tr style=\"text-align: right;\">\n",
       "      <th>tabletka</th>\n",
       "      <th>Neviem</th>\n",
       "      <th>Nie</th>\n",
       "      <th>záleži na okolnostiach</th>\n",
       "      <th>Áno</th>\n",
       "    </tr>\n",
       "    <tr>\n",
       "      <th>navrh</th>\n",
       "      <th></th>\n",
       "      <th></th>\n",
       "      <th></th>\n",
       "      <th></th>\n",
       "    </tr>\n",
       "  </thead>\n",
       "  <tbody>\n",
       "    <tr>\n",
       "      <th>Neviem</th>\n",
       "      <td>46</td>\n",
       "      <td>6</td>\n",
       "      <td>0</td>\n",
       "      <td>27</td>\n",
       "    </tr>\n",
       "    <tr>\n",
       "      <th>Nie</th>\n",
       "      <td>16</td>\n",
       "      <td>5</td>\n",
       "      <td>0</td>\n",
       "      <td>100</td>\n",
       "    </tr>\n",
       "    <tr>\n",
       "      <th>Skôr nie</th>\n",
       "      <td>12</td>\n",
       "      <td>7</td>\n",
       "      <td>0</td>\n",
       "      <td>33</td>\n",
       "    </tr>\n",
       "    <tr>\n",
       "      <th>Skôr áno</th>\n",
       "      <td>7</td>\n",
       "      <td>6</td>\n",
       "      <td>1</td>\n",
       "      <td>14</td>\n",
       "    </tr>\n",
       "    <tr>\n",
       "      <th>Áno</th>\n",
       "      <td>1</td>\n",
       "      <td>18</td>\n",
       "      <td>0</td>\n",
       "      <td>7</td>\n",
       "    </tr>\n",
       "  </tbody>\n",
       "</table>\n",
       "</div>"
      ],
      "text/plain": [
       "tabletka  Neviem  Nie  záleži na okolnostiach  Áno\n",
       "navrh                                             \n",
       "Neviem        46    6                       0   27\n",
       "Nie           16    5                       0  100\n",
       "Skôr nie      12    7                       0   33\n",
       "Skôr áno       7    6                       1   14\n",
       "Áno            1   18                       0    7"
      ]
     },
     "execution_count": 184,
     "metadata": {},
     "output_type": "execute_result"
    }
   ],
   "source": [
    "confusionMatrix"
   ]
  },
  {
   "cell_type": "code",
   "execution_count": 185,
   "metadata": {},
   "outputs": [
    {
     "data": {
      "text/plain": [
       "0.385869"
      ]
     },
     "execution_count": 185,
     "metadata": {},
     "output_type": "execute_result"
    }
   ],
   "source": [
    "cramers_corrected_stat(pearsonTest['navrh'], pearsonTest['tabletka'])"
   ]
  },
  {
   "cell_type": "code",
   "execution_count": 96,
   "metadata": {},
   "outputs": [
    {
     "data": {
      "text/plain": [
       "False"
      ]
     },
     "execution_count": 96,
     "metadata": {},
     "output_type": "execute_result"
    }
   ],
   "source": [
    "# pearsonTest['svadba'].isnull().values.any()"
   ]
  },
  {
   "cell_type": "code",
   "execution_count": 112,
   "metadata": {},
   "outputs": [
    {
     "name": "stderr",
     "output_type": "stream",
     "text": [
      "<ipython-input-112-bc2634e2d2a3>:1: SettingWithCopyWarning: \n",
      "A value is trying to be set on a copy of a slice from a DataFrame.\n",
      "Try using .loc[row_indexer,col_indexer] = value instead\n",
      "\n",
      "See the caveats in the documentation: https://pandas.pydata.org/pandas-docs/stable/user_guide/indexing.html#returning-a-view-versus-a-copy\n",
      "  pearsonTest['gender'] = pd.to_numeric(pearsonTest['gender'], errors='coerce')\n",
      "<ipython-input-112-bc2634e2d2a3>:2: SettingWithCopyWarning: \n",
      "A value is trying to be set on a copy of a slice from a DataFrame.\n",
      "Try using .loc[row_indexer,col_indexer] = value instead\n",
      "\n",
      "See the caveats in the documentation: https://pandas.pydata.org/pandas-docs/stable/user_guide/indexing.html#returning-a-view-versus-a-copy\n",
      "  pearsonTest['svadba'] = pearsonTest['svadba'].astype(\"category\").cat.codes\n"
     ]
    }
   ],
   "source": [
    "# pearsonTest['gender'] = pd.to_numeric(pearsonTest['gender'], errors='coerce')\n",
    "# pearsonTest['svadba'] = pearsonTest['svadba'].astype(\"category\").cat.codes"
   ]
  },
  {
   "cell_type": "code",
   "execution_count": 145,
   "metadata": {},
   "outputs": [
    {
     "name": "stdout",
     "output_type": "stream",
     "text": [
      "navrh       int8\n",
      "tabletka    int8\n",
      "dtype: object\n"
     ]
    }
   ],
   "source": [
    "print(pearsonTest.dtypes)"
   ]
  },
  {
   "cell_type": "code",
   "execution_count": 186,
   "metadata": {},
   "outputs": [],
   "source": [
    "# pearson = pearsonTest.corr(method='spearman')"
   ]
  },
  {
   "cell_type": "code",
   "execution_count": 187,
   "metadata": {},
   "outputs": [
    {
     "name": "stdout",
     "output_type": "stream",
     "text": [
      "Empty DataFrame\n",
      "Columns: []\n",
      "Index: []\n"
     ]
    }
   ],
   "source": [
    "# print(pearson)"
   ]
  },
  {
   "cell_type": "code",
   "execution_count": 18,
   "metadata": {},
   "outputs": [
    {
     "name": "stdout",
     "output_type": "stream",
     "text": [
      "<class 'pandas.core.frame.DataFrame'>\n",
      "RangeIndex: 306 entries, 0 to 305\n",
      "Data columns (total 2 columns):\n",
      " #   Column      Non-Null Count  Dtype \n",
      "---  ------      --------------  ----- \n",
      " 0   hodina      306 non-null    object\n",
      " 1   zdravySexZ  306 non-null    object\n",
      "dtypes: object(2)\n",
      "memory usage: 4.9+ KB\n"
     ]
    }
   ],
   "source": [
    "skuska.info()"
   ]
  },
  {
   "cell_type": "code",
   "execution_count": 29,
   "metadata": {},
   "outputs": [],
   "source": [
    "skuska['hodina'] = np.where((skuska.hodina == 'Áno, jednorázovo'),str('ano'),skuska.hodina)\n",
    "skuska['hodina'] = np.where((skuska.hodina == 'Áno, pravidelne'),str('ano'),skuska.hodina)\n",
    "skuska['zdravySexZ'] = np.where((skuska.zdravySexZ == 'Skôr áno'),str('ano'),skuska.zdravySexZ)\n",
    "skuska['zdravySexZ'] = np.where((skuska.zdravySexZ == 'Áno'),str('ano'),skuska.zdravySexZ)\n",
    "skuska['zdravySexZ'] = np.where((skuska.zdravySexZ == 'Skôr nie'),str('Nie'),skuska.zdravySexZ)"
   ]
  },
  {
   "cell_type": "code",
   "execution_count": 30,
   "metadata": {},
   "outputs": [],
   "source": [
    "len(skuska[skuska['hodina'].str.contains('Nepamätám si')])\n",
    "indexNep = list(skuska[skuska['hodina'].str.contains('Nepamätám si')].index)\n",
    "skuska = skuska.drop(indexNep)"
   ]
  },
  {
   "cell_type": "code",
   "execution_count": 31,
   "metadata": {},
   "outputs": [],
   "source": [
    "len(skuska[skuska['zdravySexZ'].str.contains('Nezaujíma ma to')])\n",
    "indexNez = list(skuska[skuska['zdravySexZ'].str.contains('Nezaujíma ma to')].index)\n",
    "skuska = skuska.drop(indexNez)"
   ]
  },
  {
   "cell_type": "code",
   "execution_count": 32,
   "metadata": {},
   "outputs": [
    {
     "data": {
      "text/plain": [
       "ano    215\n",
       "Nie     76\n",
       "Name: zdravySexZ, dtype: int64"
      ]
     },
     "execution_count": 32,
     "metadata": {},
     "output_type": "execute_result"
    }
   ],
   "source": [
    "skuska['zdravySexZ'].value_counts()"
   ]
  },
  {
   "cell_type": "code",
   "execution_count": 33,
   "metadata": {},
   "outputs": [
    {
     "data": {
      "image/png": "[encoded data removed]",
      "text/plain": [
       "<Figure size 1440x360 with 1 Axes>"
      ]
     },
     "metadata": {},
     "output_type": "display_data"
    }
   ],
   "source": [
    "import matplotlib.pyplot as plt\n",
    "sns.set(style='darkgrid')\n",
    "sns.set_palette('hls',3)\n",
    "fig, ax= plt.subplots(figsize=(20,5))\n",
    "ax = sns.countplot(x='hodina', hue='zdravySexZ', data=skuska)\n",
    "\n",
    "for p in ax.patches:\n",
    "    height = p.get_height()\n",
    "    ax.text(p.get_x()+p.get_width()/2.,\n",
    "           height + 3,\n",
    "           '{:1.2f}'.format(height/skuska.shape[0]),\n",
    "           ha='center')"
   ]
  },
  {
   "cell_type": "code",
   "execution_count": 34,
   "metadata": {},
   "outputs": [
    {
     "data": {
      "text/html": [
       "<div>\n",
       "<style scoped>\n",
       "    .dataframe tbody tr th:only-of-type {\n",
       "        vertical-align: middle;\n",
       "    }\n",
       "\n",
       "    .dataframe tbody tr th {\n",
       "        vertical-align: top;\n",
       "    }\n",
       "\n",
       "    .dataframe thead th {\n",
       "        text-align: right;\n",
       "    }\n",
       "</style>\n",
       "<table border=\"1\" class=\"dataframe\">\n",
       "  <thead>\n",
       "    <tr style=\"text-align: right;\">\n",
       "      <th>zdravySexZ</th>\n",
       "      <th>Nie</th>\n",
       "      <th>ano</th>\n",
       "      <th>All</th>\n",
       "    </tr>\n",
       "    <tr>\n",
       "      <th>hodina</th>\n",
       "      <th></th>\n",
       "      <th></th>\n",
       "      <th></th>\n",
       "    </tr>\n",
       "  </thead>\n",
       "  <tbody>\n",
       "    <tr>\n",
       "      <th>Nie</th>\n",
       "      <td>25</td>\n",
       "      <td>79</td>\n",
       "      <td>104</td>\n",
       "    </tr>\n",
       "    <tr>\n",
       "      <th>ano</th>\n",
       "      <td>51</td>\n",
       "      <td>136</td>\n",
       "      <td>187</td>\n",
       "    </tr>\n",
       "    <tr>\n",
       "      <th>All</th>\n",
       "      <td>76</td>\n",
       "      <td>215</td>\n",
       "      <td>291</td>\n",
       "    </tr>\n",
       "  </tbody>\n",
       "</table>\n",
       "</div>"
      ],
      "text/plain": [
       "zdravySexZ  Nie  ano  All\n",
       "hodina                   \n",
       "Nie          25   79  104\n",
       "ano          51  136  187\n",
       "All          76  215  291"
      ]
     },
     "execution_count": 34,
     "metadata": {},
     "output_type": "execute_result"
    }
   ],
   "source": [
    "pd.crosstab(index=skuska['hodina'],columns=skuska['zdravySexZ'], margins=True)"
   ]
  },
  {
   "cell_type": "code",
   "execution_count": 35,
   "metadata": {},
   "outputs": [],
   "source": [
    "ctSkuska = pd.crosstab(index=skuska['hodina'],columns=skuska['zdravySexZ'])"
   ]
  },
  {
   "cell_type": "code",
   "execution_count": 36,
   "metadata": {},
   "outputs": [
    {
     "data": {
      "text/html": [
       "<div>\n",
       "<style scoped>\n",
       "    .dataframe tbody tr th:only-of-type {\n",
       "        vertical-align: middle;\n",
       "    }\n",
       "\n",
       "    .dataframe tbody tr th {\n",
       "        vertical-align: top;\n",
       "    }\n",
       "\n",
       "    .dataframe thead th {\n",
       "        text-align: right;\n",
       "    }\n",
       "</style>\n",
       "<table border=\"1\" class=\"dataframe\">\n",
       "  <thead>\n",
       "    <tr style=\"text-align: right;\">\n",
       "      <th>zdravySexZ</th>\n",
       "      <th>Nie</th>\n",
       "      <th>ano</th>\n",
       "    </tr>\n",
       "    <tr>\n",
       "      <th>hodina</th>\n",
       "      <th></th>\n",
       "      <th></th>\n",
       "    </tr>\n",
       "  </thead>\n",
       "  <tbody>\n",
       "    <tr>\n",
       "      <th>Nie</th>\n",
       "      <td>25</td>\n",
       "      <td>79</td>\n",
       "    </tr>\n",
       "    <tr>\n",
       "      <th>ano</th>\n",
       "      <td>51</td>\n",
       "      <td>136</td>\n",
       "    </tr>\n",
       "  </tbody>\n",
       "</table>\n",
       "</div>"
      ],
      "text/plain": [
       "zdravySexZ  Nie  ano\n",
       "hodina              \n",
       "Nie          25   79\n",
       "ano          51  136"
      ]
     },
     "execution_count": 36,
     "metadata": {},
     "output_type": "execute_result"
    }
   ],
   "source": [
    "ctSkuska"
   ]
  },
  {
   "cell_type": "code",
   "execution_count": 37,
   "metadata": {},
   "outputs": [
    {
     "data": {
      "text/plain": [
       "array([25, 79])"
      ]
     },
     "execution_count": 37,
     "metadata": {},
     "output_type": "execute_result"
    }
   ],
   "source": [
    "ctSkuska.iloc[0].values"
   ]
  },
  {
   "cell_type": "code",
   "execution_count": 38,
   "metadata": {},
   "outputs": [],
   "source": [
    "from scipy import stats\n",
    "(chi2, p, dof,_) = stats.chi2_contingency([ctSkuska.iloc[0].values, ctSkuska.iloc[1].values])"
   ]
  },
  {
   "cell_type": "code",
   "execution_count": 39,
   "metadata": {},
   "outputs": [
    {
     "name": "stdout",
     "output_type": "stream",
     "text": [
      "chi_2 : 0.21407154713042018\n",
      "p-val: 0.6435947130814111\n",
      "deg for freedom: 1\n"
     ]
    }
   ],
   "source": [
    "print('chi_2 :',chi2)\n",
    "print('p-val:',p)\n",
    "print('deg for freedom:',dof)"
   ]
  },
  {
   "cell_type": "code",
   "execution_count": 43,
   "metadata": {},
   "outputs": [
    {
     "data": {
      "text/plain": [
       "Skôr nie           114\n",
       "Skôr áno            91\n",
       "Áno                 49\n",
       "Nie                 45\n",
       "Nezaujíma ma to      7\n",
       "Name: interrupcie, dtype: int64"
      ]
     },
     "execution_count": 43,
     "metadata": {},
     "output_type": "execute_result"
    }
   ],
   "source": [
    "skuska2['interrupcie'].value_counts()"
   ]
  },
  {
   "cell_type": "code",
   "execution_count": 44,
   "metadata": {},
   "outputs": [
    {
     "data": {
      "text/plain": [
       "Nie         121\n",
       "Neviem       79\n",
       "Skôr nie     52\n",
       "Skôr áno     28\n",
       "Áno          26\n",
       "Name: navrh, dtype: int64"
      ]
     },
     "execution_count": 44,
     "metadata": {},
     "output_type": "execute_result"
    }
   ],
   "source": [
    "skuska2['navrh'].value_counts()"
   ]
  },
  {
   "cell_type": "code",
   "execution_count": 46,
   "metadata": {},
   "outputs": [
    {
     "data": {
      "text/html": [
       "<div>\n",
       "<style scoped>\n",
       "    .dataframe tbody tr th:only-of-type {\n",
       "        vertical-align: middle;\n",
       "    }\n",
       "\n",
       "    .dataframe tbody tr th {\n",
       "        vertical-align: top;\n",
       "    }\n",
       "\n",
       "    .dataframe thead th {\n",
       "        text-align: right;\n",
       "    }\n",
       "</style>\n",
       "<table border=\"1\" class=\"dataframe\">\n",
       "  <thead>\n",
       "    <tr style=\"text-align: right;\">\n",
       "      <th>navrh</th>\n",
       "      <th>Neviem</th>\n",
       "      <th>Nie</th>\n",
       "      <th>Skôr nie</th>\n",
       "      <th>Skôr áno</th>\n",
       "      <th>Áno</th>\n",
       "    </tr>\n",
       "    <tr>\n",
       "      <th>interrupcie</th>\n",
       "      <th></th>\n",
       "      <th></th>\n",
       "      <th></th>\n",
       "      <th></th>\n",
       "      <th></th>\n",
       "    </tr>\n",
       "  </thead>\n",
       "  <tbody>\n",
       "    <tr>\n",
       "      <th>Nezaujíma ma to</th>\n",
       "      <td>7</td>\n",
       "      <td>0</td>\n",
       "      <td>0</td>\n",
       "      <td>0</td>\n",
       "      <td>0</td>\n",
       "    </tr>\n",
       "    <tr>\n",
       "      <th>Nie</th>\n",
       "      <td>14</td>\n",
       "      <td>18</td>\n",
       "      <td>8</td>\n",
       "      <td>2</td>\n",
       "      <td>3</td>\n",
       "    </tr>\n",
       "    <tr>\n",
       "      <th>Skôr nie</th>\n",
       "      <td>35</td>\n",
       "      <td>37</td>\n",
       "      <td>20</td>\n",
       "      <td>15</td>\n",
       "      <td>7</td>\n",
       "    </tr>\n",
       "    <tr>\n",
       "      <th>Skôr áno</th>\n",
       "      <td>19</td>\n",
       "      <td>41</td>\n",
       "      <td>15</td>\n",
       "      <td>10</td>\n",
       "      <td>6</td>\n",
       "    </tr>\n",
       "    <tr>\n",
       "      <th>Áno</th>\n",
       "      <td>4</td>\n",
       "      <td>25</td>\n",
       "      <td>9</td>\n",
       "      <td>1</td>\n",
       "      <td>10</td>\n",
       "    </tr>\n",
       "  </tbody>\n",
       "</table>\n",
       "</div>"
      ],
      "text/plain": [
       "navrh            Neviem  Nie  Skôr nie  Skôr áno  Áno\n",
       "interrupcie                                          \n",
       "Nezaujíma ma to       7    0         0         0    0\n",
       "Nie                  14   18         8         2    3\n",
       "Skôr nie             35   37        20        15    7\n",
       "Skôr áno             19   41        15        10    6\n",
       "Áno                   4   25         9         1   10"
      ]
     },
     "execution_count": 46,
     "metadata": {},
     "output_type": "execute_result"
    }
   ],
   "source": [
    "ctSkuska2 = pd.crosstab(index=skuska2['interrupcie'],columns=skuska2['navrh'])\n",
    "ctSkuska2"
   ]
  },
  {
   "cell_type": "code",
   "execution_count": 52,
   "metadata": {},
   "outputs": [],
   "source": [
    "from scipy import stats\n",
    "(chi22, p2, dof2,_) = stats.chi2_contingency([ctSkuska2.iloc[0].values, ctSkuska2.iloc[1].values, ctSkuska2.iloc[2].values, ctSkuska2.iloc[3].values, ctSkuska2.iloc[4].values])"
   ]
  },
  {
   "cell_type": "code",
   "execution_count": 53,
   "metadata": {},
   "outputs": [
    {
     "name": "stdout",
     "output_type": "stream",
     "text": [
      "chi_2 : 47.943018765566976\n",
      "p-val: 4.848863503912028e-05\n",
      "deg for freedom: 16\n"
     ]
    }
   ],
   "source": [
    "print('chi_2 :',chi22)\n",
    "print('p-val:',p2)\n",
    "print('deg for freedom:',dof2)"
   ]
  },
  {
   "cell_type": "code",
   "execution_count": null,
   "metadata": {},
   "outputs": [],
   "source": []
  }
 ],
 "metadata": {
  "kernelspec": {
   "display_name": "Python 3",
   "language": "python",
   "name": "python3"
  },
  "language_info": {
   "codemirror_mode": {
    "name": "ipython",
    "version": 3
   },
   "file_extension": ".py",
   "mimetype": "text/x-python",
   "name": "python",
   "nbconvert_exporter": "python",
   "pygments_lexer": "ipython3",
   "version": "3.8.3"
  }
 },
 "nbformat": 4,
 "nbformat_minor": 4
}
