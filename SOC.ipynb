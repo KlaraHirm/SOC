{
 "cells": [
  {
   "cell_type": "code",
   "execution_count": 23,
   "metadata": {},
   "outputs": [],
   "source": [
    "import pandas as pd\n",
    "import numpy as np\n",
    "main = pd.read_csv('/Users/Klara/Desktop/statistika/SOC/SOCmain.csv')"
   ]
  },
  {
   "cell_type": "code",
   "execution_count": 24,
   "metadata": {},
   "outputs": [
    {
     "data": {
      "text/html": [
       "<div>\n",
       "<style scoped>\n",
       "    .dataframe tbody tr th:only-of-type {\n",
       "        vertical-align: middle;\n",
       "    }\n",
       "\n",
       "    .dataframe tbody tr th {\n",
       "        vertical-align: top;\n",
       "    }\n",
       "\n",
       "    .dataframe thead th {\n",
       "        text-align: right;\n",
       "    }\n",
       "</style>\n",
       "<table border=\"1\" class=\"dataframe\">\n",
       "  <thead>\n",
       "    <tr style=\"text-align: right;\">\n",
       "      <th></th>\n",
       "      <th>Časová pečiatka</th>\n",
       "      <th>Pohlavie:</th>\n",
       "      <th>Vek:</th>\n",
       "      <th>Mali ste počas Vášho štúdia na strednej/základnej škole priestor na hodinách (biológia) alebo vyhradenú hodinu, ktorá sa zaoberala zdravým sexuálnym životom, antikoncepciou, sexuálne prenosnými chorobami a ich prevenciou?</th>\n",
       "      <th>V akej podobe táto hodina bola?</th>\n",
       "      <th>Rozprávali ste sa otvorene na tému sexuálna výchova a zdravie doma?</th>\n",
       "      <th>Myslíte si, že tému zdravý sexuálny život ovládate natoľko, že ste schopný/á viesť zdravý, plnohodnotný sexuálny život? (správna voľba antikoncepcie, prevencia sexuálne prenosných chorôb,...)</th>\n",
       "      <th>Riadite sa zásadou: prvý pohlavný styk až po svadbe?</th>\n",
       "      <th>V akom veku ste mali prvý pohlavný styk?</th>\n",
       "      <th>Aká je Vaša preferovaná forma antikoncepcie s partnerom?</th>\n",
       "      <th>Použili ste Vy, alebo Vaša partnerka, niekedy núdzovú antikoncepciu?   (,,tabletka po\" - väčšinou využívaná v prípade nechráneného pohlavného styku alebo zlyhaní antikoncepcie do 3-5 dní)</th>\n",
       "      <th>Myslíte si, že ste dostatočne informovaný/á o téme interrupcie? (ako prebiehajú, rôzne formy, legislatíva na Slovensku,...)</th>\n",
       "      <th>V súčasnosti sa na Slovensku čoraz viac diskutuje o sprísnení interrupčných práv. Súhlasíte s týmto návrhom zákona? (predĺženie čakacej doby na interrupciu z 2 na 4 dni, povinnosť dvoch znaleckých posudkov pred interrupciou zo zdravotných dôvodov, zákaz reklamy) celý návrh zákona: https://www.nrsr.sk/web/Dynamic/DocumentPreview.aspx?DocID=479948</th>\n",
       "      <th>Myslíte si, že by mala byť interrupčná tabletka legálna na Slovensku?</th>\n",
       "      <th>Poznáte niekoho z Vášho blízkeho okolia, kto podstúpil, alebo ste sama podstúpili, interrupciu?</th>\n",
       "    </tr>\n",
       "  </thead>\n",
       "  <tbody>\n",
       "    <tr>\n",
       "      <th>0</th>\n",
       "      <td>2020/12/10 10:00:11 PM SEČ</td>\n",
       "      <td>Žena</td>\n",
       "      <td>51</td>\n",
       "      <td>Nie</td>\n",
       "      <td>Vyhradená hodina v učebnom pláne na ZŠ;Vyhrade...</td>\n",
       "      <td>Skôr nie</td>\n",
       "      <td>Skôr áno</td>\n",
       "      <td>Nie</td>\n",
       "      <td>19-20</td>\n",
       "      <td>Metódy založené na znalosti plodnosti (neplodn...</td>\n",
       "      <td>Áno</td>\n",
       "      <td>Skôr nie</td>\n",
       "      <td>Nie</td>\n",
       "      <td>Áno</td>\n",
       "      <td>Áno, poznám</td>\n",
       "    </tr>\n",
       "    <tr>\n",
       "      <th>1</th>\n",
       "      <td>2020/12/10 10:05:29 PM SEČ</td>\n",
       "      <td>Žena</td>\n",
       "      <td>18</td>\n",
       "      <td>Nie</td>\n",
       "      <td>Nemal/a som žiadnu možnosť byť informovaný/á n...</td>\n",
       "      <td>Skôr áno</td>\n",
       "      <td>Skôr áno</td>\n",
       "      <td>Nie</td>\n",
       "      <td>15-16</td>\n",
       "      <td>Antikoncepčné tabletky (s alebo bez obsahu est...</td>\n",
       "      <td>Áno</td>\n",
       "      <td>Skôr áno</td>\n",
       "      <td>Nie</td>\n",
       "      <td>Áno</td>\n",
       "      <td>Nie</td>\n",
       "    </tr>\n",
       "    <tr>\n",
       "      <th>2</th>\n",
       "      <td>2020/12/10 10:06:02 PM SEČ</td>\n",
       "      <td>Žena</td>\n",
       "      <td>19</td>\n",
       "      <td>Nie</td>\n",
       "      <td>Výklad na hodine biológie SŠ</td>\n",
       "      <td>Nie</td>\n",
       "      <td>Skôr áno</td>\n",
       "      <td>Nie</td>\n",
       "      <td>ešte som nemal/a pohlavný styk</td>\n",
       "      <td>Nie som sexuálne aktívny/a</td>\n",
       "      <td>Nie</td>\n",
       "      <td>Skôr nie</td>\n",
       "      <td>Neviem</td>\n",
       "      <td>Áno</td>\n",
       "      <td>Nie</td>\n",
       "    </tr>\n",
       "    <tr>\n",
       "      <th>3</th>\n",
       "      <td>2020/12/10 10:13:00 PM SEČ</td>\n",
       "      <td>Žena</td>\n",
       "      <td>18</td>\n",
       "      <td>Áno, jednorázovo</td>\n",
       "      <td>Výklad na hodine biológie ZŠ</td>\n",
       "      <td>Áno</td>\n",
       "      <td>Skôr áno</td>\n",
       "      <td>Nie</td>\n",
       "      <td>17-18</td>\n",
       "      <td>Prerušovaná súlož</td>\n",
       "      <td>Áno</td>\n",
       "      <td>Skôr áno</td>\n",
       "      <td>Nie</td>\n",
       "      <td>Áno</td>\n",
       "      <td>Áno, poznám</td>\n",
       "    </tr>\n",
       "    <tr>\n",
       "      <th>4</th>\n",
       "      <td>2020/12/10 10:16:03 PM SEČ</td>\n",
       "      <td>Žena</td>\n",
       "      <td>17</td>\n",
       "      <td>Nie</td>\n",
       "      <td>Nemal/a som žiadnu možnosť byť informovaný/á n...</td>\n",
       "      <td>Skôr nie</td>\n",
       "      <td>Skôr áno</td>\n",
       "      <td>Nie</td>\n",
       "      <td>ešte som nemal/a pohlavný styk</td>\n",
       "      <td>Nie som sexuálne aktívny/a</td>\n",
       "      <td>Nie</td>\n",
       "      <td>Skôr áno</td>\n",
       "      <td>Nie</td>\n",
       "      <td>Áno</td>\n",
       "      <td>Nie</td>\n",
       "    </tr>\n",
       "  </tbody>\n",
       "</table>\n",
       "</div>"
      ],
      "text/plain": [
       "              Časová pečiatka Pohlavie: Vek:  \\\n",
       "0  2020/12/10 10:00:11 PM SEČ      Žena   51   \n",
       "1  2020/12/10 10:05:29 PM SEČ      Žena   18   \n",
       "2  2020/12/10 10:06:02 PM SEČ      Žena   19   \n",
       "3  2020/12/10 10:13:00 PM SEČ      Žena   18   \n",
       "4  2020/12/10 10:16:03 PM SEČ      Žena   17   \n",
       "\n",
       "  Mali ste počas Vášho štúdia na strednej/základnej škole priestor na hodinách (biológia) alebo vyhradenú hodinu, ktorá sa zaoberala zdravým sexuálnym životom, antikoncepciou, sexuálne prenosnými chorobami a ich prevenciou?  \\\n",
       "0                                                Nie                                                                                                                                                                              \n",
       "1                                                Nie                                                                                                                                                                              \n",
       "2                                                Nie                                                                                                                                                                              \n",
       "3                                   Áno, jednorázovo                                                                                                                                                                              \n",
       "4                                                Nie                                                                                                                                                                              \n",
       "\n",
       "                     V akej podobe táto hodina bola?  \\\n",
       "0  Vyhradená hodina v učebnom pláne na ZŠ;Vyhrade...   \n",
       "1  Nemal/a som žiadnu možnosť byť informovaný/á n...   \n",
       "2                       Výklad na hodine biológie SŠ   \n",
       "3                       Výklad na hodine biológie ZŠ   \n",
       "4  Nemal/a som žiadnu možnosť byť informovaný/á n...   \n",
       "\n",
       "  Rozprávali ste sa otvorene na tému sexuálna výchova a zdravie doma?  \\\n",
       "0                                           Skôr nie                    \n",
       "1                                           Skôr áno                    \n",
       "2                                                Nie                    \n",
       "3                                                Áno                    \n",
       "4                                           Skôr nie                    \n",
       "\n",
       "  Myslíte si, že tému zdravý sexuálny život ovládate natoľko, že ste schopný/á viesť zdravý, plnohodnotný sexuálny život? (správna voľba antikoncepcie, prevencia sexuálne prenosných chorôb,...)  \\\n",
       "0                                           Skôr áno                                                                                                                                                \n",
       "1                                           Skôr áno                                                                                                                                                \n",
       "2                                           Skôr áno                                                                                                                                                \n",
       "3                                           Skôr áno                                                                                                                                                \n",
       "4                                           Skôr áno                                                                                                                                                \n",
       "\n",
       "  Riadite sa zásadou: prvý pohlavný styk až po svadbe?  \\\n",
       "0                                                Nie     \n",
       "1                                                Nie     \n",
       "2                                                Nie     \n",
       "3                                                Nie     \n",
       "4                                                Nie     \n",
       "\n",
       "  V akom veku ste mali prvý pohlavný styk?  \\\n",
       "0                                    19-20   \n",
       "1                                    15-16   \n",
       "2           ešte som nemal/a pohlavný styk   \n",
       "3                                    17-18   \n",
       "4           ešte som nemal/a pohlavný styk   \n",
       "\n",
       "  Aká je Vaša preferovaná forma antikoncepcie s partnerom?  \\\n",
       "0  Metódy založené na znalosti plodnosti (neplodn...         \n",
       "1  Antikoncepčné tabletky (s alebo bez obsahu est...         \n",
       "2                         Nie som sexuálne aktívny/a         \n",
       "3                                  Prerušovaná súlož         \n",
       "4                         Nie som sexuálne aktívny/a         \n",
       "\n",
       "  Použili ste Vy, alebo Vaša partnerka, niekedy núdzovú antikoncepciu?   (,,tabletka po\" - väčšinou využívaná v prípade nechráneného pohlavného styku alebo zlyhaní antikoncepcie do 3-5 dní)  \\\n",
       "0                                                Áno                                                                                                                                            \n",
       "1                                                Áno                                                                                                                                            \n",
       "2                                                Nie                                                                                                                                            \n",
       "3                                                Áno                                                                                                                                            \n",
       "4                                                Nie                                                                                                                                            \n",
       "\n",
       "  Myslíte si, že ste dostatočne informovaný/á o téme interrupcie? (ako prebiehajú, rôzne formy, legislatíva na Slovensku,...)  \\\n",
       "0                                           Skôr nie                                                                            \n",
       "1                                           Skôr áno                                                                            \n",
       "2                                           Skôr nie                                                                            \n",
       "3                                           Skôr áno                                                                            \n",
       "4                                           Skôr áno                                                                            \n",
       "\n",
       "  V súčasnosti sa na Slovensku čoraz viac diskutuje o sprísnení interrupčných práv. Súhlasíte s týmto návrhom zákona? (predĺženie čakacej doby na interrupciu z 2 na 4 dni, povinnosť dvoch znaleckých posudkov pred interrupciou zo zdravotných dôvodov, zákaz reklamy) celý návrh zákona: https://www.nrsr.sk/web/Dynamic/DocumentPreview.aspx?DocID=479948  \\\n",
       "0                                                Nie                                                                                                                                                                                                                                                                                                            \n",
       "1                                                Nie                                                                                                                                                                                                                                                                                                            \n",
       "2                                             Neviem                                                                                                                                                                                                                                                                                                            \n",
       "3                                                Nie                                                                                                                                                                                                                                                                                                            \n",
       "4                                                Nie                                                                                                                                                                                                                                                                                                            \n",
       "\n",
       "  Myslíte si, že by mala byť interrupčná tabletka legálna na Slovensku?  \\\n",
       "0                                                Áno                      \n",
       "1                                                Áno                      \n",
       "2                                                Áno                      \n",
       "3                                                Áno                      \n",
       "4                                                Áno                      \n",
       "\n",
       "  Poznáte niekoho z Vášho blízkeho okolia, kto podstúpil, alebo ste sama podstúpili, interrupciu?   \n",
       "0                                        Áno, poznám                                                \n",
       "1                                                Nie                                                \n",
       "2                                                Nie                                                \n",
       "3                                        Áno, poznám                                                \n",
       "4                                                Nie                                                "
      ]
     },
     "execution_count": 24,
     "metadata": {},
     "output_type": "execute_result"
    }
   ],
   "source": [
    "main.head()"
   ]
  },
  {
   "cell_type": "code",
   "execution_count": 25,
   "metadata": {},
   "outputs": [],
   "source": [
    "del main['Časová pečiatka']"
   ]
  },
  {
   "cell_type": "code",
   "execution_count": 26,
   "metadata": {},
   "outputs": [
    {
     "data": {
      "text/html": [
       "<div>\n",
       "<style scoped>\n",
       "    .dataframe tbody tr th:only-of-type {\n",
       "        vertical-align: middle;\n",
       "    }\n",
       "\n",
       "    .dataframe tbody tr th {\n",
       "        vertical-align: top;\n",
       "    }\n",
       "\n",
       "    .dataframe thead th {\n",
       "        text-align: right;\n",
       "    }\n",
       "</style>\n",
       "<table border=\"1\" class=\"dataframe\">\n",
       "  <thead>\n",
       "    <tr style=\"text-align: right;\">\n",
       "      <th></th>\n",
       "      <th>Vek:</th>\n",
       "      <th>V akom veku ste mali prvý pohlavný styk?</th>\n",
       "    </tr>\n",
       "  </thead>\n",
       "  <tbody>\n",
       "    <tr>\n",
       "      <th>0</th>\n",
       "      <td>51</td>\n",
       "      <td>19-20</td>\n",
       "    </tr>\n",
       "    <tr>\n",
       "      <th>1</th>\n",
       "      <td>18</td>\n",
       "      <td>15-16</td>\n",
       "    </tr>\n",
       "    <tr>\n",
       "      <th>2</th>\n",
       "      <td>19</td>\n",
       "      <td>ešte som nemal/a pohlavný styk</td>\n",
       "    </tr>\n",
       "    <tr>\n",
       "      <th>3</th>\n",
       "      <td>18</td>\n",
       "      <td>17-18</td>\n",
       "    </tr>\n",
       "    <tr>\n",
       "      <th>4</th>\n",
       "      <td>17</td>\n",
       "      <td>ešte som nemal/a pohlavný styk</td>\n",
       "    </tr>\n",
       "    <tr>\n",
       "      <th>...</th>\n",
       "      <td>...</td>\n",
       "      <td>...</td>\n",
       "    </tr>\n",
       "    <tr>\n",
       "      <th>301</th>\n",
       "      <td>16</td>\n",
       "      <td>ešte som nemal/a pohlavný styk</td>\n",
       "    </tr>\n",
       "    <tr>\n",
       "      <th>302</th>\n",
       "      <td>17</td>\n",
       "      <td>ešte som nemal/a pohlavný styk</td>\n",
       "    </tr>\n",
       "    <tr>\n",
       "      <th>303</th>\n",
       "      <td>18</td>\n",
       "      <td>ešte som nemal/a pohlavný styk</td>\n",
       "    </tr>\n",
       "    <tr>\n",
       "      <th>304</th>\n",
       "      <td>18</td>\n",
       "      <td>ešte som nemal/a pohlavný styk</td>\n",
       "    </tr>\n",
       "    <tr>\n",
       "      <th>305</th>\n",
       "      <td>18</td>\n",
       "      <td>ešte som nemal/a pohlavný styk</td>\n",
       "    </tr>\n",
       "  </tbody>\n",
       "</table>\n",
       "<p>306 rows × 2 columns</p>\n",
       "</div>"
      ],
      "text/plain": [
       "    Vek: V akom veku ste mali prvý pohlavný styk?\n",
       "0     51                                    19-20\n",
       "1     18                                    15-16\n",
       "2     19           ešte som nemal/a pohlavný styk\n",
       "3     18                                    17-18\n",
       "4     17           ešte som nemal/a pohlavný styk\n",
       "..   ...                                      ...\n",
       "301   16           ešte som nemal/a pohlavný styk\n",
       "302   17           ešte som nemal/a pohlavný styk\n",
       "303   18           ešte som nemal/a pohlavný styk\n",
       "304   18           ešte som nemal/a pohlavný styk\n",
       "305   18           ešte som nemal/a pohlavný styk\n",
       "\n",
       "[306 rows x 2 columns]"
      ]
     },
     "execution_count": 26,
     "metadata": {},
     "output_type": "execute_result"
    }
   ],
   "source": [
    "korelacia = main\n",
    "korelacia = korelacia[['Vek:','V akom veku ste mali prvý pohlavný styk?']]\n",
    "korelacia"
   ]
  },
  {
   "cell_type": "code",
   "execution_count": 27,
   "metadata": {},
   "outputs": [
    {
     "data": {
      "text/html": [
       "<div>\n",
       "<style scoped>\n",
       "    .dataframe tbody tr th:only-of-type {\n",
       "        vertical-align: middle;\n",
       "    }\n",
       "\n",
       "    .dataframe tbody tr th {\n",
       "        vertical-align: top;\n",
       "    }\n",
       "\n",
       "    .dataframe thead th {\n",
       "        text-align: right;\n",
       "    }\n",
       "</style>\n",
       "<table border=\"1\" class=\"dataframe\">\n",
       "  <thead>\n",
       "    <tr style=\"text-align: right;\">\n",
       "      <th></th>\n",
       "      <th>vek</th>\n",
       "      <th>prvySex</th>\n",
       "    </tr>\n",
       "  </thead>\n",
       "  <tbody>\n",
       "    <tr>\n",
       "      <th>0</th>\n",
       "      <td>51</td>\n",
       "      <td>19-20</td>\n",
       "    </tr>\n",
       "    <tr>\n",
       "      <th>1</th>\n",
       "      <td>18</td>\n",
       "      <td>15-16</td>\n",
       "    </tr>\n",
       "    <tr>\n",
       "      <th>2</th>\n",
       "      <td>19</td>\n",
       "      <td>ešte som nemal/a pohlavný styk</td>\n",
       "    </tr>\n",
       "    <tr>\n",
       "      <th>3</th>\n",
       "      <td>18</td>\n",
       "      <td>17-18</td>\n",
       "    </tr>\n",
       "    <tr>\n",
       "      <th>4</th>\n",
       "      <td>17</td>\n",
       "      <td>ešte som nemal/a pohlavný styk</td>\n",
       "    </tr>\n",
       "  </tbody>\n",
       "</table>\n",
       "</div>"
      ],
      "text/plain": [
       "  vek                         prvySex\n",
       "0  51                           19-20\n",
       "1  18                           15-16\n",
       "2  19  ešte som nemal/a pohlavný styk\n",
       "3  18                           17-18\n",
       "4  17  ešte som nemal/a pohlavný styk"
      ]
     },
     "execution_count": 27,
     "metadata": {},
     "output_type": "execute_result"
    }
   ],
   "source": [
    "korelacia.columns = ['vek','prvySex']\n",
    "korelacia.head()"
   ]
  },
  {
   "cell_type": "code",
   "execution_count": 28,
   "metadata": {},
   "outputs": [
    {
     "name": "stdout",
     "output_type": "stream",
     "text": [
      "vek        object\n",
      "prvySex    object\n",
      "dtype: object\n"
     ]
    }
   ],
   "source": [
    "print(korelacia.dtypes)"
   ]
  },
  {
   "cell_type": "code",
   "execution_count": 29,
   "metadata": {},
   "outputs": [],
   "source": [
    "korelacia.at[291,'vek']=60"
   ]
  },
  {
   "cell_type": "code",
   "execution_count": 30,
   "metadata": {},
   "outputs": [
    {
     "name": "stderr",
     "output_type": "stream",
     "text": [
      "<ipython-input-30-49fa3a6112fc>:1: SettingWithCopyWarning: \n",
      "A value is trying to be set on a copy of a slice from a DataFrame.\n",
      "Try using .loc[row_indexer,col_indexer] = value instead\n",
      "\n",
      "See the caveats in the documentation: https://pandas.pydata.org/pandas-docs/stable/user_guide/indexing.html#returning-a-view-versus-a-copy\n",
      "  korelacia['vek'] = pd.to_numeric(korelacia['vek'], errors='coerce')\n"
     ]
    }
   ],
   "source": [
    "korelacia['vek'] = pd.to_numeric(korelacia['vek'], errors='coerce')"
   ]
  },
  {
   "cell_type": "code",
   "execution_count": 31,
   "metadata": {},
   "outputs": [
    {
     "name": "stdout",
     "output_type": "stream",
     "text": [
      "vek         int64\n",
      "prvySex    object\n",
      "dtype: object\n"
     ]
    },
    {
     "data": {
      "text/html": [
       "<div>\n",
       "<style scoped>\n",
       "    .dataframe tbody tr th:only-of-type {\n",
       "        vertical-align: middle;\n",
       "    }\n",
       "\n",
       "    .dataframe tbody tr th {\n",
       "        vertical-align: top;\n",
       "    }\n",
       "\n",
       "    .dataframe thead th {\n",
       "        text-align: right;\n",
       "    }\n",
       "</style>\n",
       "<table border=\"1\" class=\"dataframe\">\n",
       "  <thead>\n",
       "    <tr style=\"text-align: right;\">\n",
       "      <th></th>\n",
       "      <th>vek</th>\n",
       "      <th>prvySex</th>\n",
       "    </tr>\n",
       "  </thead>\n",
       "  <tbody>\n",
       "    <tr>\n",
       "      <th>0</th>\n",
       "      <td>51</td>\n",
       "      <td>19-20</td>\n",
       "    </tr>\n",
       "    <tr>\n",
       "      <th>1</th>\n",
       "      <td>18</td>\n",
       "      <td>15-16</td>\n",
       "    </tr>\n",
       "    <tr>\n",
       "      <th>2</th>\n",
       "      <td>19</td>\n",
       "      <td>ešte som nemal/a pohlavný styk</td>\n",
       "    </tr>\n",
       "    <tr>\n",
       "      <th>3</th>\n",
       "      <td>18</td>\n",
       "      <td>17-18</td>\n",
       "    </tr>\n",
       "    <tr>\n",
       "      <th>4</th>\n",
       "      <td>17</td>\n",
       "      <td>ešte som nemal/a pohlavný styk</td>\n",
       "    </tr>\n",
       "    <tr>\n",
       "      <th>...</th>\n",
       "      <td>...</td>\n",
       "      <td>...</td>\n",
       "    </tr>\n",
       "    <tr>\n",
       "      <th>301</th>\n",
       "      <td>16</td>\n",
       "      <td>ešte som nemal/a pohlavný styk</td>\n",
       "    </tr>\n",
       "    <tr>\n",
       "      <th>302</th>\n",
       "      <td>17</td>\n",
       "      <td>ešte som nemal/a pohlavný styk</td>\n",
       "    </tr>\n",
       "    <tr>\n",
       "      <th>303</th>\n",
       "      <td>18</td>\n",
       "      <td>ešte som nemal/a pohlavný styk</td>\n",
       "    </tr>\n",
       "    <tr>\n",
       "      <th>304</th>\n",
       "      <td>18</td>\n",
       "      <td>ešte som nemal/a pohlavný styk</td>\n",
       "    </tr>\n",
       "    <tr>\n",
       "      <th>305</th>\n",
       "      <td>18</td>\n",
       "      <td>ešte som nemal/a pohlavný styk</td>\n",
       "    </tr>\n",
       "  </tbody>\n",
       "</table>\n",
       "<p>306 rows × 2 columns</p>\n",
       "</div>"
      ],
      "text/plain": [
       "     vek                         prvySex\n",
       "0     51                           19-20\n",
       "1     18                           15-16\n",
       "2     19  ešte som nemal/a pohlavný styk\n",
       "3     18                           17-18\n",
       "4     17  ešte som nemal/a pohlavný styk\n",
       "..   ...                             ...\n",
       "301   16  ešte som nemal/a pohlavný styk\n",
       "302   17  ešte som nemal/a pohlavný styk\n",
       "303   18  ešte som nemal/a pohlavný styk\n",
       "304   18  ešte som nemal/a pohlavný styk\n",
       "305   18  ešte som nemal/a pohlavný styk\n",
       "\n",
       "[306 rows x 2 columns]"
      ]
     },
     "execution_count": 31,
     "metadata": {},
     "output_type": "execute_result"
    }
   ],
   "source": [
    "print(korelacia.dtypes)\n",
    "korelacia"
   ]
  },
  {
   "cell_type": "code",
   "execution_count": 32,
   "metadata": {},
   "outputs": [],
   "source": [
    "# indexNoSex = korelacia[korelacia['prvySex'] == 'ešte som nemal/a pohlavný styk' ].index\n",
    "# korelacia.drop(indexNoSex , inplace=True)"
   ]
  },
  {
   "cell_type": "code",
   "execution_count": 33,
   "metadata": {},
   "outputs": [
    {
     "data": {
      "text/plain": [
       "197"
      ]
     },
     "execution_count": 33,
     "metadata": {},
     "output_type": "execute_result"
    }
   ],
   "source": [
    "len(korelacia[korelacia['prvySex'].str.contains('ešte som nemal/a pohlavný styk')])"
   ]
  },
  {
   "cell_type": "code",
   "execution_count": 34,
   "metadata": {},
   "outputs": [],
   "source": [
    "indexNoSex = list(korelacia[korelacia['prvySex'].str.contains('ešte som nemal/a pohlavný styk')].index)"
   ]
  },
  {
   "cell_type": "code",
   "execution_count": 35,
   "metadata": {},
   "outputs": [
    {
     "data": {
      "text/plain": [
       "list"
      ]
     },
     "execution_count": 35,
     "metadata": {},
     "output_type": "execute_result"
    }
   ],
   "source": [
    "type(indexNoSex)"
   ]
  },
  {
   "cell_type": "code",
   "execution_count": 36,
   "metadata": {},
   "outputs": [],
   "source": [
    "korelacia = korelacia.drop(indexNoSex)"
   ]
  },
  {
   "cell_type": "code",
   "execution_count": 37,
   "metadata": {},
   "outputs": [
    {
     "data": {
      "text/html": [
       "<div>\n",
       "<style scoped>\n",
       "    .dataframe tbody tr th:only-of-type {\n",
       "        vertical-align: middle;\n",
       "    }\n",
       "\n",
       "    .dataframe tbody tr th {\n",
       "        vertical-align: top;\n",
       "    }\n",
       "\n",
       "    .dataframe thead th {\n",
       "        text-align: right;\n",
       "    }\n",
       "</style>\n",
       "<table border=\"1\" class=\"dataframe\">\n",
       "  <thead>\n",
       "    <tr style=\"text-align: right;\">\n",
       "      <th></th>\n",
       "      <th>vek</th>\n",
       "      <th>prvySex</th>\n",
       "    </tr>\n",
       "  </thead>\n",
       "  <tbody>\n",
       "    <tr>\n",
       "      <th>0</th>\n",
       "      <td>51</td>\n",
       "      <td>19-20</td>\n",
       "    </tr>\n",
       "    <tr>\n",
       "      <th>1</th>\n",
       "      <td>18</td>\n",
       "      <td>15-16</td>\n",
       "    </tr>\n",
       "    <tr>\n",
       "      <th>3</th>\n",
       "      <td>18</td>\n",
       "      <td>17-18</td>\n",
       "    </tr>\n",
       "    <tr>\n",
       "      <th>5</th>\n",
       "      <td>19</td>\n",
       "      <td>15-16</td>\n",
       "    </tr>\n",
       "    <tr>\n",
       "      <th>8</th>\n",
       "      <td>18</td>\n",
       "      <td>17-18</td>\n",
       "    </tr>\n",
       "    <tr>\n",
       "      <th>...</th>\n",
       "      <td>...</td>\n",
       "      <td>...</td>\n",
       "    </tr>\n",
       "    <tr>\n",
       "      <th>276</th>\n",
       "      <td>16</td>\n",
       "      <td>15-16</td>\n",
       "    </tr>\n",
       "    <tr>\n",
       "      <th>285</th>\n",
       "      <td>17</td>\n",
       "      <td>17-18</td>\n",
       "    </tr>\n",
       "    <tr>\n",
       "      <th>287</th>\n",
       "      <td>19</td>\n",
       "      <td>17-18</td>\n",
       "    </tr>\n",
       "    <tr>\n",
       "      <th>291</th>\n",
       "      <td>60</td>\n",
       "      <td>17-18</td>\n",
       "    </tr>\n",
       "    <tr>\n",
       "      <th>298</th>\n",
       "      <td>19</td>\n",
       "      <td>17-18</td>\n",
       "    </tr>\n",
       "  </tbody>\n",
       "</table>\n",
       "<p>109 rows × 2 columns</p>\n",
       "</div>"
      ],
      "text/plain": [
       "     vek prvySex\n",
       "0     51   19-20\n",
       "1     18   15-16\n",
       "3     18   17-18\n",
       "5     19   15-16\n",
       "8     18   17-18\n",
       "..   ...     ...\n",
       "276   16   15-16\n",
       "285   17   17-18\n",
       "287   19   17-18\n",
       "291   60   17-18\n",
       "298   19   17-18\n",
       "\n",
       "[109 rows x 2 columns]"
      ]
     },
     "execution_count": 37,
     "metadata": {},
     "output_type": "execute_result"
    }
   ],
   "source": [
    "korelacia"
   ]
  },
  {
   "cell_type": "code",
   "execution_count": 38,
   "metadata": {},
   "outputs": [
    {
     "data": {
      "text/plain": [
       "109"
      ]
     },
     "execution_count": 38,
     "metadata": {},
     "output_type": "execute_result"
    }
   ],
   "source": [
    "len(korelacia)"
   ]
  },
  {
   "cell_type": "code",
   "execution_count": 42,
   "metadata": {},
   "outputs": [],
   "source": [
    "korelacia['prvySex'] = np.where((korelacia.prvySex == '19-20'),float(19.5),korelacia.prvySex)\n",
    "korelacia['prvySex'] = np.where((korelacia.prvySex == 'do 14'),float(14.0),korelacia.prvySex)\n",
    "korelacia['prvySex'] = np.where((korelacia.prvySex == '15-16'),float(15.5),korelacia.prvySex)\n",
    "korelacia['prvySex'] = np.where((korelacia.prvySex == '17-18'),float(17.5),korelacia.prvySex)\n",
    "korelacia['prvySex'] = np.where((korelacia.prvySex == '21-25'),float(23.0),korelacia.prvySex)\n",
    "korelacia['prvySex'] = np.where((korelacia.prvySex == '26 a viac'),float(26.0),korelacia.prvySex)"
   ]
  },
  {
   "cell_type": "code",
   "execution_count": 44,
   "metadata": {},
   "outputs": [
    {
     "data": {
      "text/html": [
       "<div>\n",
       "<style scoped>\n",
       "    .dataframe tbody tr th:only-of-type {\n",
       "        vertical-align: middle;\n",
       "    }\n",
       "\n",
       "    .dataframe tbody tr th {\n",
       "        vertical-align: top;\n",
       "    }\n",
       "\n",
       "    .dataframe thead th {\n",
       "        text-align: right;\n",
       "    }\n",
       "</style>\n",
       "<table border=\"1\" class=\"dataframe\">\n",
       "  <thead>\n",
       "    <tr style=\"text-align: right;\">\n",
       "      <th></th>\n",
       "      <th>vek</th>\n",
       "      <th>prvySex</th>\n",
       "    </tr>\n",
       "  </thead>\n",
       "  <tbody>\n",
       "    <tr>\n",
       "      <th>0</th>\n",
       "      <td>51</td>\n",
       "      <td>19.5</td>\n",
       "    </tr>\n",
       "    <tr>\n",
       "      <th>1</th>\n",
       "      <td>18</td>\n",
       "      <td>15.5</td>\n",
       "    </tr>\n",
       "    <tr>\n",
       "      <th>3</th>\n",
       "      <td>18</td>\n",
       "      <td>17.5</td>\n",
       "    </tr>\n",
       "    <tr>\n",
       "      <th>5</th>\n",
       "      <td>19</td>\n",
       "      <td>15.5</td>\n",
       "    </tr>\n",
       "    <tr>\n",
       "      <th>8</th>\n",
       "      <td>18</td>\n",
       "      <td>17.5</td>\n",
       "    </tr>\n",
       "    <tr>\n",
       "      <th>...</th>\n",
       "      <td>...</td>\n",
       "      <td>...</td>\n",
       "    </tr>\n",
       "    <tr>\n",
       "      <th>276</th>\n",
       "      <td>16</td>\n",
       "      <td>15.5</td>\n",
       "    </tr>\n",
       "    <tr>\n",
       "      <th>285</th>\n",
       "      <td>17</td>\n",
       "      <td>17.5</td>\n",
       "    </tr>\n",
       "    <tr>\n",
       "      <th>287</th>\n",
       "      <td>19</td>\n",
       "      <td>17.5</td>\n",
       "    </tr>\n",
       "    <tr>\n",
       "      <th>291</th>\n",
       "      <td>60</td>\n",
       "      <td>17.5</td>\n",
       "    </tr>\n",
       "    <tr>\n",
       "      <th>298</th>\n",
       "      <td>19</td>\n",
       "      <td>17.5</td>\n",
       "    </tr>\n",
       "  </tbody>\n",
       "</table>\n",
       "<p>109 rows × 2 columns</p>\n",
       "</div>"
      ],
      "text/plain": [
       "     vek prvySex\n",
       "0     51    19.5\n",
       "1     18    15.5\n",
       "3     18    17.5\n",
       "5     19    15.5\n",
       "8     18    17.5\n",
       "..   ...     ...\n",
       "276   16    15.5\n",
       "285   17    17.5\n",
       "287   19    17.5\n",
       "291   60    17.5\n",
       "298   19    17.5\n",
       "\n",
       "[109 rows x 2 columns]"
      ]
     },
     "execution_count": 44,
     "metadata": {},
     "output_type": "execute_result"
    }
   ],
   "source": [
    "korelacia"
   ]
  },
  {
   "cell_type": "code",
   "execution_count": 45,
   "metadata": {},
   "outputs": [],
   "source": [
    "korelacia['prvySex'] = pd.to_numeric(korelacia['prvySex'], errors='coerce')"
   ]
  },
  {
   "cell_type": "code",
   "execution_count": 46,
   "metadata": {},
   "outputs": [
    {
     "name": "stdout",
     "output_type": "stream",
     "text": [
      "vek          int64\n",
      "prvySex    float64\n",
      "dtype: object\n"
     ]
    }
   ],
   "source": [
    "print(korelacia.dtypes)"
   ]
  },
  {
   "cell_type": "code",
   "execution_count": 47,
   "metadata": {},
   "outputs": [
    {
     "data": {
      "text/html": [
       "<div>\n",
       "<style scoped>\n",
       "    .dataframe tbody tr th:only-of-type {\n",
       "        vertical-align: middle;\n",
       "    }\n",
       "\n",
       "    .dataframe tbody tr th {\n",
       "        vertical-align: top;\n",
       "    }\n",
       "\n",
       "    .dataframe thead th {\n",
       "        text-align: right;\n",
       "    }\n",
       "</style>\n",
       "<table border=\"1\" class=\"dataframe\">\n",
       "  <thead>\n",
       "    <tr style=\"text-align: right;\">\n",
       "      <th></th>\n",
       "      <th>vek</th>\n",
       "      <th>prvySex</th>\n",
       "    </tr>\n",
       "  </thead>\n",
       "  <tbody>\n",
       "    <tr>\n",
       "      <th>0</th>\n",
       "      <td>51</td>\n",
       "      <td>19.5</td>\n",
       "    </tr>\n",
       "    <tr>\n",
       "      <th>1</th>\n",
       "      <td>18</td>\n",
       "      <td>15.5</td>\n",
       "    </tr>\n",
       "    <tr>\n",
       "      <th>3</th>\n",
       "      <td>18</td>\n",
       "      <td>17.5</td>\n",
       "    </tr>\n",
       "    <tr>\n",
       "      <th>5</th>\n",
       "      <td>19</td>\n",
       "      <td>15.5</td>\n",
       "    </tr>\n",
       "    <tr>\n",
       "      <th>8</th>\n",
       "      <td>18</td>\n",
       "      <td>17.5</td>\n",
       "    </tr>\n",
       "    <tr>\n",
       "      <th>...</th>\n",
       "      <td>...</td>\n",
       "      <td>...</td>\n",
       "    </tr>\n",
       "    <tr>\n",
       "      <th>276</th>\n",
       "      <td>16</td>\n",
       "      <td>15.5</td>\n",
       "    </tr>\n",
       "    <tr>\n",
       "      <th>285</th>\n",
       "      <td>17</td>\n",
       "      <td>17.5</td>\n",
       "    </tr>\n",
       "    <tr>\n",
       "      <th>287</th>\n",
       "      <td>19</td>\n",
       "      <td>17.5</td>\n",
       "    </tr>\n",
       "    <tr>\n",
       "      <th>291</th>\n",
       "      <td>60</td>\n",
       "      <td>17.5</td>\n",
       "    </tr>\n",
       "    <tr>\n",
       "      <th>298</th>\n",
       "      <td>19</td>\n",
       "      <td>17.5</td>\n",
       "    </tr>\n",
       "  </tbody>\n",
       "</table>\n",
       "<p>109 rows × 2 columns</p>\n",
       "</div>"
      ],
      "text/plain": [
       "     vek  prvySex\n",
       "0     51     19.5\n",
       "1     18     15.5\n",
       "3     18     17.5\n",
       "5     19     15.5\n",
       "8     18     17.5\n",
       "..   ...      ...\n",
       "276   16     15.5\n",
       "285   17     17.5\n",
       "287   19     17.5\n",
       "291   60     17.5\n",
       "298   19     17.5\n",
       "\n",
       "[109 rows x 2 columns]"
      ]
     },
     "execution_count": 47,
     "metadata": {},
     "output_type": "execute_result"
    }
   ],
   "source": [
    "korelacia"
   ]
  },
  {
   "cell_type": "markdown",
   "metadata": {},
   "source": [
    "# <strong><span style=\"color:red\">Koniec nastaveni</span></strong>\n",
    "---"
   ]
  },
  {
   "cell_type": "markdown",
   "metadata": {},
   "source": [
    "<strong>\n",
    "    Korelacia</strong>"
   ]
  },
  {
   "cell_type": "code",
   "execution_count": 48,
   "metadata": {},
   "outputs": [],
   "source": [
    "grafKorelacia = korelacia.corr()"
   ]
  },
  {
   "cell_type": "code",
   "execution_count": 50,
   "metadata": {},
   "outputs": [
    {
     "data": {
      "text/plain": [
       "<matplotlib.axes._subplots.AxesSubplot at 0x7ff73760fb20>"
      ]
     },
     "execution_count": 50,
     "metadata": {},
     "output_type": "execute_result"
    },
    {
     "data": {
      "image/png": "[encoded data removed]",
      "text/plain": [
       "<Figure size 432x288 with 1 Axes>"
      ]
     },
     "metadata": {
      "needs_background": "light"
     },
     "output_type": "display_data"
    }
   ],
   "source": [
    "korelacia.corr().plot(kind='bar')"
   ]
  },
  {
   "cell_type": "markdown",
   "metadata": {},
   "source": [
    "---\n",
    "<strong>\n",
    "    regresia</strong>"
   ]
  },
  {
   "cell_type": "code",
   "execution_count": 51,
   "metadata": {},
   "outputs": [
    {
     "data": {
      "text/plain": [
       "[<matplotlib.lines.Line2D at 0x7ff737730970>]"
      ]
     },
     "execution_count": 51,
     "metadata": {},
     "output_type": "execute_result"
    },
    {
     "data": {
      "image/png": "[encoded data removed]",
      "text/plain": [
       "<Figure size 432x288 with 1 Axes>"
      ]
     },
     "metadata": {
      "needs_background": "light"
     },
     "output_type": "display_data"
    }
   ],
   "source": [
    "import matplotlib.pyplot as plt\n",
    "plt.scatter(korelacia['vek'],korelacia['prvySex'])\n",
    "plt.title('Korelacia veku a prveho pohl styku')\n",
    "plt.xlabel('vek')\n",
    "plt.ylabel('prvySex')\n",
    "plt.plot(np.unique(korelacia['vek']), np.poly1d(np.polyfit(korelacia['vek'], korelacia['prvySex'], 1))(np.unique(korelacia['vek'])), color='red')"
   ]
  },
  {
   "cell_type": "code",
   "execution_count": 52,
   "metadata": {},
   "outputs": [
    {
     "name": "stdout",
     "output_type": "stream",
     "text": [
      "[[1.         0.54579053]\n",
      " [0.54579053 1.        ]]\n"
     ]
    }
   ],
   "source": [
    "print(np.corrcoef(korelacia['vek'], korelacia['prvySex']))"
   ]
  },
  {
   "cell_type": "markdown",
   "metadata": {},
   "source": [
    "---\n",
    "<strong>\n",
    "    Box Plot</strong>"
   ]
  },
  {
   "cell_type": "code",
   "execution_count": 55,
   "metadata": {},
   "outputs": [
    {
     "data": {
      "text/html": [
       "<div>\n",
       "<style scoped>\n",
       "    .dataframe tbody tr th:only-of-type {\n",
       "        vertical-align: middle;\n",
       "    }\n",
       "\n",
       "    .dataframe tbody tr th {\n",
       "        vertical-align: top;\n",
       "    }\n",
       "\n",
       "    .dataframe thead th {\n",
       "        text-align: right;\n",
       "    }\n",
       "</style>\n",
       "<table border=\"1\" class=\"dataframe\">\n",
       "  <thead>\n",
       "    <tr style=\"text-align: right;\">\n",
       "      <th></th>\n",
       "      <th>vek</th>\n",
       "      <th>prvySex</th>\n",
       "    </tr>\n",
       "  </thead>\n",
       "  <tbody>\n",
       "    <tr>\n",
       "      <th>82</th>\n",
       "      <td>17</td>\n",
       "      <td>14.0</td>\n",
       "    </tr>\n",
       "    <tr>\n",
       "      <th>238</th>\n",
       "      <td>34</td>\n",
       "      <td>14.0</td>\n",
       "    </tr>\n",
       "    <tr>\n",
       "      <th>25</th>\n",
       "      <td>18</td>\n",
       "      <td>14.0</td>\n",
       "    </tr>\n",
       "    <tr>\n",
       "      <th>249</th>\n",
       "      <td>17</td>\n",
       "      <td>14.0</td>\n",
       "    </tr>\n",
       "    <tr>\n",
       "      <th>250</th>\n",
       "      <td>17</td>\n",
       "      <td>14.0</td>\n",
       "    </tr>\n",
       "    <tr>\n",
       "      <th>...</th>\n",
       "      <td>...</td>\n",
       "      <td>...</td>\n",
       "    </tr>\n",
       "    <tr>\n",
       "      <th>138</th>\n",
       "      <td>17</td>\n",
       "      <td>17.5</td>\n",
       "    </tr>\n",
       "    <tr>\n",
       "      <th>167</th>\n",
       "      <td>39</td>\n",
       "      <td>19.5</td>\n",
       "    </tr>\n",
       "    <tr>\n",
       "      <th>0</th>\n",
       "      <td>51</td>\n",
       "      <td>19.5</td>\n",
       "    </tr>\n",
       "    <tr>\n",
       "      <th>235</th>\n",
       "      <td>46</td>\n",
       "      <td>23.0</td>\n",
       "    </tr>\n",
       "    <tr>\n",
       "      <th>144</th>\n",
       "      <td>60</td>\n",
       "      <td>23.0</td>\n",
       "    </tr>\n",
       "  </tbody>\n",
       "</table>\n",
       "<p>109 rows × 2 columns</p>\n",
       "</div>"
      ],
      "text/plain": [
       "     vek  prvySex\n",
       "82    17     14.0\n",
       "238   34     14.0\n",
       "25    18     14.0\n",
       "249   17     14.0\n",
       "250   17     14.0\n",
       "..   ...      ...\n",
       "138   17     17.5\n",
       "167   39     19.5\n",
       "0     51     19.5\n",
       "235   46     23.0\n",
       "144   60     23.0\n",
       "\n",
       "[109 rows x 2 columns]"
      ]
     },
     "execution_count": 55,
     "metadata": {},
     "output_type": "execute_result"
    }
   ],
   "source": [
    "korelacia.sort_values(by=['prvySex'])"
   ]
  },
  {
   "cell_type": "code",
   "execution_count": 56,
   "metadata": {},
   "outputs": [
    {
     "data": {
      "image/png": "[encoded data removed]",
      "text/plain": [
       "<Figure size 432x288 with 1 Axes>"
      ]
     },
     "metadata": {
      "needs_background": "light"
     },
     "output_type": "display_data"
    }
   ],
   "source": [
    "BPO = korelacia.boxplot(column=['prvySex'])"
   ]
  },
  {
   "cell_type": "markdown",
   "metadata": {},
   "source": [
    "---\n",
    "<strong>\n",
    "    median</strong>"
   ]
  },
  {
   "cell_type": "code",
   "execution_count": 57,
   "metadata": {},
   "outputs": [
    {
     "data": {
      "text/plain": [
       "18.0"
      ]
     },
     "execution_count": 57,
     "metadata": {},
     "output_type": "execute_result"
    }
   ],
   "source": [
    "korelacia['vek'].median()"
   ]
  },
  {
   "cell_type": "code",
   "execution_count": 58,
   "metadata": {},
   "outputs": [
    {
     "data": {
      "text/plain": [
       "15.5"
      ]
     },
     "execution_count": 58,
     "metadata": {},
     "output_type": "execute_result"
    }
   ],
   "source": [
    "korelacia['prvySex'].median()"
   ]
  },
  {
   "cell_type": "code",
   "execution_count": 60,
   "metadata": {},
   "outputs": [
    {
     "data": {
      "text/html": [
       "<div>\n",
       "<style scoped>\n",
       "    .dataframe tbody tr th:only-of-type {\n",
       "        vertical-align: middle;\n",
       "    }\n",
       "\n",
       "    .dataframe tbody tr th {\n",
       "        vertical-align: top;\n",
       "    }\n",
       "\n",
       "    .dataframe thead th {\n",
       "        text-align: right;\n",
       "    }\n",
       "</style>\n",
       "<table border=\"1\" class=\"dataframe\">\n",
       "  <thead>\n",
       "    <tr style=\"text-align: right;\">\n",
       "      <th></th>\n",
       "      <th>vek</th>\n",
       "      <th>prvySex</th>\n",
       "    </tr>\n",
       "  </thead>\n",
       "  <tbody>\n",
       "    <tr>\n",
       "      <th>0</th>\n",
       "      <td>18</td>\n",
       "      <td>17.5</td>\n",
       "    </tr>\n",
       "  </tbody>\n",
       "</table>\n",
       "</div>"
      ],
      "text/plain": [
       "   vek  prvySex\n",
       "0   18     17.5"
      ]
     },
     "execution_count": 60,
     "metadata": {},
     "output_type": "execute_result"
    }
   ],
   "source": [
    "korelacia.mode()"
   ]
  },
  {
   "cell_type": "code",
   "execution_count": null,
   "metadata": {},
   "outputs": [],
   "source": []
  }
 ],
 "metadata": {
  "kernelspec": {
   "display_name": "Python 3",
   "language": "python",
   "name": "python3"
  },
  "language_info": {
   "codemirror_mode": {
    "name": "ipython",
    "version": 3
   },
   "file_extension": ".py",
   "mimetype": "text/x-python",
   "name": "python",
   "nbconvert_exporter": "python",
   "pygments_lexer": "ipython3",
   "version": "3.8.3"
  }
 },
 "nbformat": 4,
 "nbformat_minor": 4
}
